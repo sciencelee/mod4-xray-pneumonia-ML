{
  "nbformat": 4,
  "nbformat_minor": 0,
  "metadata": {
    "colab": {
      "name": "mod4_xrays.ipynb",
      "provenance": [],
      "collapsed_sections": [],
      "toc_visible": true,
      "mount_file_id": "1cgHnsQyI93L72wU_Sda4xd1Vnud5kecV",
      "authorship_tag": "ABX9TyOIW+WY/ubID/rTIwOT6Yhr",
      "include_colab_link": true
    },
    "kernelspec": {
      "display_name": "Python 3",
      "name": "python3"
    },
    "accelerator": "GPU"
  },
  "cells": [
    {
      "cell_type": "markdown",
      "metadata": {
        "id": "view-in-github",
        "colab_type": "text"
      },
      "source": [
        "<a href=\"https://colab.research.google.com/github/sciencelee/mod4-xray-pneumonia-ML/blob/main/mod4_xrays.ipynb\" target=\"_parent\"><img src=\"https://colab.research.google.com/assets/colab-badge.svg\" alt=\"Open In Colab\"/></a>"
      ]
    },
    {
      "cell_type": "markdown",
      "metadata": {
        "id": "y0HeCmxNlwXp"
      },
      "source": [
        "# Introduction\n",
        "In this project we will create a Machine Learning model to classify chest x-ray images as positive or negative for pneumonia.  "
      ]
    },
    {
      "cell_type": "code",
      "metadata": {
        "colab": {
          "base_uri": "https://localhost:8080/"
        },
        "id": "wxeaniQsGgGV",
        "outputId": "d148b762-0ba1-4648-8577-03f8a7f1b410"
      },
      "source": [
        "!git clone https://github.com/sciencelee/mod4-xray-pneumonia-ML\n"
      ],
      "execution_count": 4,
      "outputs": [
        {
          "output_type": "stream",
          "text": [
            "Cloning into 'mod4-xray-pneumonia-ML'...\n",
            "remote: Enumerating objects: 6, done.\u001b[K\n",
            "remote: Counting objects: 100% (6/6), done.\u001b[K\n",
            "remote: Compressing objects: 100% (4/4), done.\u001b[K\n",
            "remote: Total 6 (delta 0), reused 3 (delta 0), pack-reused 0\u001b[K\n",
            "Unpacking objects: 100% (6/6), done.\n"
          ],
          "name": "stdout"
        }
      ]
    },
    {
      "cell_type": "markdown",
      "metadata": {
        "id": "ePi-zUDUmHzl"
      },
      "source": [
        "# Dataset\n",
        "The full dataset used in this project can be found [here](https://www.kaggle.com/paultimothymooney/chest-xray-pneumonia) at kaggle.com.  \n",
        "\n",
        "The kaggle dataset is taken adapted from the [original images](https://data.mendeley.com/datasets/rscbjbr9sj/3) at Mendeley Data.\n",
        "\n",
        "The labeled dataset contains 1583 normal chest xray images, and 4274 with pneumonia. The original images are greater than 1200x1200 pixels grayscale."
      ]
    },
    {
      "cell_type": "markdown",
      "metadata": {
        "id": "IQcAW3OMrO6Z"
      },
      "source": [
        "#Project Setup\n"
      ]
    },
    {
      "cell_type": "markdown",
      "metadata": {
        "id": "mcQ_1GzjBOCE"
      },
      "source": [
        "##Google Drive \n",
        "This project is written in Google Colab.  The image folders are stored in These blocks mount the users google drive.  The chest xrays are stored in the path location of the drive.\n",
        "\n",
        "The structure of the xray images within the google folder is as shown. If you would like to recreate the project, all normal labeled images go in the \"NORMAL ALL\" folder, and all pneumonia labeled go in the 'PNEUMONIA ALL' folder.  This notebook will randomly place the desired `train test val` ratios of randomized images into the correct folders for reading into the datasets used in our model.  \n",
        "\n",
        "```\n",
        "chest_xray  \n",
        "  └───NORMAL_ALL (contains all normal imgs)\n",
        "  └───PNEUMONIA_ALL (contains all pneumonia imgs)\n",
        "  └───train \n",
        "  │   └───NORMAL\n",
        "  │   └───PNEUMONIA\n",
        "  └───test\n",
        "  │   └───NORMAL\n",
        "  │   └───PNEUMONIA\n",
        "  └───val\n",
        "      └───NORMAL\n",
        "      └───PNEUMONIA\n",
        "```\n",
        "\n",
        "The code below connects this ipynb to Google Drive.  To give access to your drive, you will need to give authorization."
      ]
    },
    {
      "cell_type": "code",
      "metadata": {
        "colab": {
          "base_uri": "https://localhost:8080/",
          "height": 334
        },
        "id": "xkIEpDjrLsGp",
        "outputId": "417426d5-5182-4fff-cd51-c750985168f2"
      },
      "source": [
        "from google.colab import drive # import drive from google colab\n",
        "\n",
        "drive.mount('/content/drive') # we mount the google drive at /content/drive"
      ],
      "execution_count": 3,
      "outputs": [
        {
          "output_type": "error",
          "ename": "ValueError",
          "evalue": "ignored",
          "traceback": [
            "\u001b[0;31m---------------------------------------------------------------------------\u001b[0m",
            "\u001b[0;31mValueError\u001b[0m                                Traceback (most recent call last)",
            "\u001b[0;32m<ipython-input-3-c54494dd81f8>\u001b[0m in \u001b[0;36m<module>\u001b[0;34m()\u001b[0m\n\u001b[1;32m      1\u001b[0m \u001b[0;32mfrom\u001b[0m \u001b[0mgoogle\u001b[0m\u001b[0;34m.\u001b[0m\u001b[0mcolab\u001b[0m \u001b[0;32mimport\u001b[0m \u001b[0mdrive\u001b[0m \u001b[0;31m# import drive from google colab\u001b[0m\u001b[0;34m\u001b[0m\u001b[0;34m\u001b[0m\u001b[0m\n\u001b[1;32m      2\u001b[0m \u001b[0;34m\u001b[0m\u001b[0m\n\u001b[0;32m----> 3\u001b[0;31m \u001b[0mdrive\u001b[0m\u001b[0;34m.\u001b[0m\u001b[0mmount\u001b[0m\u001b[0;34m(\u001b[0m\u001b[0;34m'/content/drive/MyDrive/'\u001b[0m\u001b[0;34m)\u001b[0m \u001b[0;31m# we mount the google drive at /content/drive\u001b[0m\u001b[0;34m\u001b[0m\u001b[0;34m\u001b[0m\u001b[0m\n\u001b[0m",
            "\u001b[0;32m/usr/local/lib/python3.6/dist-packages/google/colab/drive.py\u001b[0m in \u001b[0;36mmount\u001b[0;34m(mountpoint, force_remount, timeout_ms, use_metadata_server)\u001b[0m\n\u001b[1;32m    160\u001b[0m     \u001b[0mnormed\u001b[0m \u001b[0;34m=\u001b[0m \u001b[0m_os\u001b[0m\u001b[0;34m.\u001b[0m\u001b[0mpath\u001b[0m\u001b[0;34m.\u001b[0m\u001b[0mnormpath\u001b[0m\u001b[0;34m(\u001b[0m\u001b[0mmountpoint\u001b[0m\u001b[0;34m)\u001b[0m\u001b[0;34m\u001b[0m\u001b[0;34m\u001b[0m\u001b[0m\n\u001b[1;32m    161\u001b[0m     \u001b[0;32mif\u001b[0m \u001b[0;34m'/'\u001b[0m \u001b[0;32min\u001b[0m \u001b[0mnormed\u001b[0m \u001b[0;32mand\u001b[0m \u001b[0;32mnot\u001b[0m \u001b[0m_os\u001b[0m\u001b[0;34m.\u001b[0m\u001b[0mpath\u001b[0m\u001b[0;34m.\u001b[0m\u001b[0mexists\u001b[0m\u001b[0;34m(\u001b[0m\u001b[0m_os\u001b[0m\u001b[0;34m.\u001b[0m\u001b[0mpath\u001b[0m\u001b[0;34m.\u001b[0m\u001b[0mdirname\u001b[0m\u001b[0;34m(\u001b[0m\u001b[0mnormed\u001b[0m\u001b[0;34m)\u001b[0m\u001b[0;34m)\u001b[0m\u001b[0;34m:\u001b[0m\u001b[0;34m\u001b[0m\u001b[0;34m\u001b[0m\u001b[0m\n\u001b[0;32m--> 162\u001b[0;31m       \u001b[0;32mraise\u001b[0m \u001b[0mValueError\u001b[0m\u001b[0;34m(\u001b[0m\u001b[0;34m'Mountpoint must be in a directory that exists'\u001b[0m\u001b[0;34m)\u001b[0m\u001b[0;34m\u001b[0m\u001b[0;34m\u001b[0m\u001b[0m\n\u001b[0m\u001b[1;32m    163\u001b[0m   \u001b[0;32mexcept\u001b[0m\u001b[0;34m:\u001b[0m\u001b[0;34m\u001b[0m\u001b[0;34m\u001b[0m\u001b[0m\n\u001b[1;32m    164\u001b[0m     \u001b[0md\u001b[0m\u001b[0;34m.\u001b[0m\u001b[0mkill\u001b[0m\u001b[0;34m(\u001b[0m\u001b[0m_signal\u001b[0m\u001b[0;34m.\u001b[0m\u001b[0mSIGKILL\u001b[0m\u001b[0;34m)\u001b[0m\u001b[0;34m\u001b[0m\u001b[0;34m\u001b[0m\u001b[0m\n",
            "\u001b[0;31mValueError\u001b[0m: Mountpoint must be in a directory that exists"
          ]
        }
      ]
    },
    {
      "cell_type": "markdown",
      "metadata": {
        "id": "UitrKwjVq8gB"
      },
      "source": [
        "## Imports\n",
        "Import all of the necessary libraries."
      ]
    },
    {
      "cell_type": "code",
      "metadata": {
        "id": "yzMb_yVN31ny"
      },
      "source": [
        "import datetime\n",
        "import os\n",
        "import time\n",
        "import shutil\n",
        "import datetime\n",
        "from random import shuffle, seed\n",
        "\n",
        "\n",
        "import matplotlib.pyplot as plt\n",
        "import pandas as pd\n",
        "import numpy as np\n",
        "import seaborn as sns\n",
        "\n",
        "from PIL import Image\n",
        "import scipy\n",
        "from scipy import ndimage\n",
        "from sklearn.metrics import accuracy_score, confusion_matrix\n",
        "from keras import models, layers, optimizers\n",
        "from keras.preprocessing.image import ImageDataGenerator, array_to_img, img_to_array, load_img\n",
        "from keras.preprocessing import image\n",
        "from keras.models import load_model\n",
        "from keras.utils import plot_model\n",
        "\n",
        "\n",
        "%matplotlib inline\n",
        "\n",
        "np.random.seed(123)"
      ],
      "execution_count": null,
      "outputs": []
    },
    {
      "cell_type": "code",
      "metadata": {
        "id": "qpZkZkvKr6b6"
      },
      "source": [
        "\n",
        "'''\n",
        "chest_xray  \n",
        "  └───NORMAL_ALL (contains all normal imgs)\n",
        "  └───PNEUMONIA_ALL (contains all pneumonia imgs)\n",
        "  └───train \n",
        "  │   └───NORMAL\n",
        "  │   └───PNEUMONIA\n",
        "  └───test\n",
        "  │   └───NORMAL\n",
        "  │   └───PNEUMONIA\n",
        "  └───val\n",
        "      └───NORMAL\n",
        "      └───PNEUMONIA\n",
        "'''\n",
        "pass\n"
      ],
      "execution_count": null,
      "outputs": []
    },
    {
      "cell_type": "code",
      "metadata": {
        "id": "_AKczBvsr-Ef"
      },
      "source": [
        "path = '/content/drive/MyDrive/chest_xray'\n",
        "all_normal_folder = path + '/NORMAL_ALL/'\n",
        "all_pneumonia_folder = path + '/PNEUMONIA_ALL/'\n",
        "\n",
        "test_folder = path + '/test/'\n",
        "train_folder = path + '/train/'\n",
        "val_folder = path + '/val/'"
      ],
      "execution_count": null,
      "outputs": []
    },
    {
      "cell_type": "markdown",
      "metadata": {
        "id": "fXh_4WgI0Zet"
      },
      "source": [
        "## Building our Train, Test, and Validation Datasets\n",
        "We will make lists of all of the image names for NORMAL and PNEUMONIA chest xrays.  Then we can divy up the images into individual folders for later use.\n",
        "\n",
        "I will also use this opportunity to randomize the images, and select the size of the dataset to use.  I will start with a small sets prior to building the final model."
      ]
    },
    {
      "cell_type": "markdown",
      "metadata": {
        "id": "IaVOKC1fu7uM"
      },
      "source": [
        "We have two folders.  One for normal images, and one for pnemonia xray images"
      ]
    },
    {
      "cell_type": "code",
      "metadata": {
        "colab": {
          "base_uri": "https://localhost:8080/"
        },
        "id": "9dV7DuGnuzEQ",
        "outputId": "46a7a1c4-f7e6-4b90-e824-735c99938b44"
      },
      "source": [
        "seed(123)\n",
        "\n",
        "# Make a list of all normal images\n",
        "normal_imgs = [file for file in os.listdir(all_normal_folder)]\n",
        "shuffle(normal_imgs) # random lib method for iterables\n",
        "normal_imgs[:10]\n",
        "\n",
        "print('There are {} normal xray images.'.format(len(normal_imgs)))\n",
        "\n",
        "\n",
        "# make a list of all pneumonia images\n",
        "pneumonia_imgs = [file for file in os.listdir(all_pneumonia_folder)]\n",
        "shuffle(pneumonia_imgs)\n",
        "pneumonia_imgs[:10]\n",
        "\n",
        "all_imgs = normal_imgs + pneumonia_imgs\n",
        "shuffle(all_imgs)\n",
        "\n",
        "print('There are {} pneumonia xray images.'.format(len(pneumonia_imgs)))\n"
      ],
      "execution_count": null,
      "outputs": [
        {
          "output_type": "stream",
          "text": [
            "There are 1583 normal xray images.\n"
          ],
          "name": "stdout"
        }
      ]
    },
    {
      "cell_type": "code",
      "metadata": {
        "id": "UdvXz5FWAl1g"
      },
      "source": [
        "# https://docs.python.org/3/library/shutil.html#shutil\n",
        "\n",
        "# set distribution of datasets\n",
        "train_test_val = [0.8, 0.1, 0.1] # must add to 1.0\n",
        "\n",
        "# What percentage of the dataset are we using\n",
        "size_dataset = 1 # what percentage of dataset are we using?\n",
        "\n",
        "# NORMAL data indices\n",
        "# indices for train, test, val\n",
        "n_images_norm = int(round(len(normal_imgs) * size_dataset))\n",
        "\n",
        "print(\n",
        "'''\n",
        "Percent of images used: {:.0%}. (to speed up model iterations)\n",
        "Train//Test//Val Split: {:.0%}, {:.0%}, {:.0%}\n",
        "'''.format(size_dataset, train_test_val[0], train_test_val[1], train_test_val[2]))\n",
        "\n",
        "# get the correct indices to chop up my NORMAL images from a shuffled list\n",
        "norm_train_index = int(round(n_images_norm * train_test_val[0]))\n",
        "norm_test_index = int(norm_train_index + round(n_images_norm * train_test_val[1]))\n",
        "norm_val_index = min(norm_test_index + int(round(n_images_norm * train_test_val[2])), n_images_norm-1)\n",
        "\n",
        "print('NORMAL xrays\\nTotal images: {}\\nIndices: {}, {}, {}'.format(n_images_norm, norm_train_index, norm_test_index, norm_val_index)) \n",
        "\n",
        "# PNEUMONIA data indices\n",
        "# indices for train, test, val\n",
        "n_images_pneu = int(round(len(pneumonia_imgs) * size_dataset))\n",
        "\n",
        "# get the correct indices to chop up my PNEUMONIA images from a shuffled list\n",
        "pneu_train_index = int(round(n_images_pneu * train_test_val[0]))\n",
        "pneu_test_index = int(pneu_train_index + round(n_images_pneu * train_test_val[1]))\n",
        "pneu_val_index = min(pneu_test_index + int(round(n_images_pneu * train_test_val[2])), n_images_pneu-1)\n",
        "\n",
        "\n",
        "print('\\nPNEUMONIA xrays\\nTotal images: {}\\nIndices: {}, {}, {}'.format(n_images_pneu, pneu_train_index, pneu_test_index, pneu_val_index)) "
      ],
      "execution_count": null,
      "outputs": []
    },
    {
      "cell_type": "markdown",
      "metadata": {
        "id": "yR9uRp7XdnBT"
      },
      "source": [
        "Now that we have all of the names of images in a list, and we have the indices for the split, we will copy image files into the appropriate folders so we can use 'flow_from_directory' method in ImageDataGenerator.\n",
        "\n",
        "This may take a while.  This is definitely not something I would try on a larger dataset, but it works for this size and gives us some flexibility in training the model."
      ]
    },
    {
      "cell_type": "code",
      "metadata": {
        "id": "AUYQoQ7hdlhi",
        "colab": {
          "base_uri": "https://localhost:8080/",
          "height": 528
        },
        "outputId": "9b0cc110-096b-4a69-eb01-7a5f170fc556"
      },
      "source": [
        "# ONLY RUN THIS CELL IF YOU WANT TO RECREATE THE DATASET\n",
        "# ⏰ ⏰\n",
        "answer = input(\"Are you sure you want to continue?\")\n",
        "\n",
        "if answer.upper() in ['Y', 'YES']:\n",
        "\n",
        "  # empty all of the folders first\n",
        "  shutil.rmtree(test_folder, ignore_errors=True)\n",
        "  shutil.rmtree(train_folder, ignore_errors=True)\n",
        "  shutil.rmtree(val_folder, ignore_errors=True)\n",
        "\n",
        "  os.mkdir(test_folder)\n",
        "  os.mkdir(test_folder + 'NORMAL')\n",
        "  os.mkdir(test_folder + 'PNEUMONIA')\n",
        "  os.mkdir(train_folder)\n",
        "  os.mkdir(train_folder + 'NORMAL')\n",
        "  os.mkdir(train_folder + 'PNEUMONIA')\n",
        "  os.mkdir(val_folder)\n",
        "  os.mkdir(val_folder + 'NORMAL')\n",
        "  os.mkdir(val_folder + 'PNEUMONIA')\n",
        "\n",
        "  # fill them back up with selected images\n",
        "\n",
        "  # NORMAL images first\n",
        "  for image in normal_imgs[:norm_train_index]:\n",
        "    shutil.copyfile(all_normal_folder + image, train_folder + 'NORMAL/' + image)\n",
        "  else:\n",
        "    print(train_folder + 'NORMAL', 'complete')\n",
        "\n",
        "  for image in normal_imgs[norm_train_index:norm_test_index]:\n",
        "    shutil.copyfile(all_normal_folder + image, test_folder + 'NORMAL/' + image)\n",
        "  else:\n",
        "    print(test_folder + 'NORMAL', 'complete')\n",
        "\n",
        "  for image in normal_imgs[norm_test_index:norm_val_index]:\n",
        "    shutil.copyfile(all_normal_folder + image, val_folder + 'NORMAL/' + image)\n",
        "  else:\n",
        "    print(val_folder + 'NORMAL', 'complete')\n",
        "\n",
        "  # PNEUMONIA images\n",
        "  for image in pneumonia_imgs[:pneu_train_index]:\n",
        "    shutil.copyfile(all_pneumonia_folder + image, train_folder + 'PNEUMONIA/' + image)\n",
        "  else:\n",
        "    print(train_folder + 'PNEUMONIA', 'complete')\n",
        "\n",
        "  for image in pneumonia_imgs[pneu_train_index:pneu_test_index]:\n",
        "    shutil.copyfile(all_pneumonia_folder + image, test_folder + 'PNEUMONIA/' + image)\n",
        "  else:\n",
        "    print(test_folder + 'PNEUMONIA', 'complete')\n",
        "\n",
        "  for image in pneumonia_imgs[pneu_test_index:pneu_val_index]:\n",
        "      shutil.copyfile(all_pneumonia_folder + image, val_folder + 'PNEUMONIA/' + image)\n",
        "  else:\n",
        "    print(val_folder + 'PNEUMONIA', 'complete')"
      ],
      "execution_count": null,
      "outputs": [
        {
          "output_type": "error",
          "ename": "KeyboardInterrupt",
          "evalue": "ignored",
          "traceback": [
            "\u001b[0;31m---------------------------------------------------------------------------\u001b[0m",
            "\u001b[0;31mKeyboardInterrupt\u001b[0m                         Traceback (most recent call last)",
            "\u001b[0;32m/usr/local/lib/python3.6/dist-packages/ipykernel/kernelbase.py\u001b[0m in \u001b[0;36m_input_request\u001b[0;34m(self, prompt, ident, parent, password)\u001b[0m\n\u001b[1;32m    728\u001b[0m             \u001b[0;32mtry\u001b[0m\u001b[0;34m:\u001b[0m\u001b[0;34m\u001b[0m\u001b[0;34m\u001b[0m\u001b[0m\n\u001b[0;32m--> 729\u001b[0;31m                 \u001b[0mident\u001b[0m\u001b[0;34m,\u001b[0m \u001b[0mreply\u001b[0m \u001b[0;34m=\u001b[0m \u001b[0mself\u001b[0m\u001b[0;34m.\u001b[0m\u001b[0msession\u001b[0m\u001b[0;34m.\u001b[0m\u001b[0mrecv\u001b[0m\u001b[0;34m(\u001b[0m\u001b[0mself\u001b[0m\u001b[0;34m.\u001b[0m\u001b[0mstdin_socket\u001b[0m\u001b[0;34m,\u001b[0m \u001b[0;36m0\u001b[0m\u001b[0;34m)\u001b[0m\u001b[0;34m\u001b[0m\u001b[0;34m\u001b[0m\u001b[0m\n\u001b[0m\u001b[1;32m    730\u001b[0m             \u001b[0;32mexcept\u001b[0m \u001b[0mException\u001b[0m\u001b[0;34m:\u001b[0m\u001b[0;34m\u001b[0m\u001b[0;34m\u001b[0m\u001b[0m\n",
            "\u001b[0;32m/usr/local/lib/python3.6/dist-packages/jupyter_client/session.py\u001b[0m in \u001b[0;36mrecv\u001b[0;34m(self, socket, mode, content, copy)\u001b[0m\n\u001b[1;32m    802\u001b[0m         \u001b[0;32mtry\u001b[0m\u001b[0;34m:\u001b[0m\u001b[0;34m\u001b[0m\u001b[0;34m\u001b[0m\u001b[0m\n\u001b[0;32m--> 803\u001b[0;31m             \u001b[0mmsg_list\u001b[0m \u001b[0;34m=\u001b[0m \u001b[0msocket\u001b[0m\u001b[0;34m.\u001b[0m\u001b[0mrecv_multipart\u001b[0m\u001b[0;34m(\u001b[0m\u001b[0mmode\u001b[0m\u001b[0;34m,\u001b[0m \u001b[0mcopy\u001b[0m\u001b[0;34m=\u001b[0m\u001b[0mcopy\u001b[0m\u001b[0;34m)\u001b[0m\u001b[0;34m\u001b[0m\u001b[0;34m\u001b[0m\u001b[0m\n\u001b[0m\u001b[1;32m    804\u001b[0m         \u001b[0;32mexcept\u001b[0m \u001b[0mzmq\u001b[0m\u001b[0;34m.\u001b[0m\u001b[0mZMQError\u001b[0m \u001b[0;32mas\u001b[0m \u001b[0me\u001b[0m\u001b[0;34m:\u001b[0m\u001b[0;34m\u001b[0m\u001b[0;34m\u001b[0m\u001b[0m\n",
            "\u001b[0;32m/usr/local/lib/python3.6/dist-packages/zmq/sugar/socket.py\u001b[0m in \u001b[0;36mrecv_multipart\u001b[0;34m(self, flags, copy, track)\u001b[0m\n\u001b[1;32m    565\u001b[0m         \"\"\"\n\u001b[0;32m--> 566\u001b[0;31m         \u001b[0mparts\u001b[0m \u001b[0;34m=\u001b[0m \u001b[0;34m[\u001b[0m\u001b[0mself\u001b[0m\u001b[0;34m.\u001b[0m\u001b[0mrecv\u001b[0m\u001b[0;34m(\u001b[0m\u001b[0mflags\u001b[0m\u001b[0;34m,\u001b[0m \u001b[0mcopy\u001b[0m\u001b[0;34m=\u001b[0m\u001b[0mcopy\u001b[0m\u001b[0;34m,\u001b[0m \u001b[0mtrack\u001b[0m\u001b[0;34m=\u001b[0m\u001b[0mtrack\u001b[0m\u001b[0;34m)\u001b[0m\u001b[0;34m]\u001b[0m\u001b[0;34m\u001b[0m\u001b[0;34m\u001b[0m\u001b[0m\n\u001b[0m\u001b[1;32m    567\u001b[0m         \u001b[0;31m# have first part already, only loop while more to receive\u001b[0m\u001b[0;34m\u001b[0m\u001b[0;34m\u001b[0m\u001b[0;34m\u001b[0m\u001b[0m\n",
            "\u001b[0;32mzmq/backend/cython/socket.pyx\u001b[0m in \u001b[0;36mzmq.backend.cython.socket.Socket.recv\u001b[0;34m()\u001b[0m\n",
            "\u001b[0;32mzmq/backend/cython/socket.pyx\u001b[0m in \u001b[0;36mzmq.backend.cython.socket.Socket.recv\u001b[0;34m()\u001b[0m\n",
            "\u001b[0;32mzmq/backend/cython/socket.pyx\u001b[0m in \u001b[0;36mzmq.backend.cython.socket._recv_copy\u001b[0;34m()\u001b[0m\n",
            "\u001b[0;32m/usr/local/lib/python3.6/dist-packages/zmq/backend/cython/checkrc.pxd\u001b[0m in \u001b[0;36mzmq.backend.cython.checkrc._check_rc\u001b[0;34m()\u001b[0m\n",
            "\u001b[0;31mKeyboardInterrupt\u001b[0m: ",
            "\nDuring handling of the above exception, another exception occurred:\n",
            "\u001b[0;31mKeyboardInterrupt\u001b[0m                         Traceback (most recent call last)",
            "\u001b[0;32m<ipython-input-7-c09c320d11ad>\u001b[0m in \u001b[0;36m<module>\u001b[0;34m()\u001b[0m\n\u001b[1;32m      1\u001b[0m \u001b[0;31m# ONLY RUN THIS CELL IF YOU WANT TO RECREATE THE DATASET\u001b[0m\u001b[0;34m\u001b[0m\u001b[0;34m\u001b[0m\u001b[0;34m\u001b[0m\u001b[0m\n\u001b[1;32m      2\u001b[0m \u001b[0;31m# ⏰ ⏰\u001b[0m\u001b[0;34m\u001b[0m\u001b[0;34m\u001b[0m\u001b[0;34m\u001b[0m\u001b[0m\n\u001b[0;32m----> 3\u001b[0;31m \u001b[0manswer\u001b[0m \u001b[0;34m=\u001b[0m \u001b[0minput\u001b[0m\u001b[0;34m(\u001b[0m\u001b[0;34m\"Are you sure you want to continue?\"\u001b[0m\u001b[0;34m)\u001b[0m\u001b[0;34m\u001b[0m\u001b[0;34m\u001b[0m\u001b[0m\n\u001b[0m\u001b[1;32m      4\u001b[0m \u001b[0;34m\u001b[0m\u001b[0m\n\u001b[1;32m      5\u001b[0m \u001b[0;32mif\u001b[0m \u001b[0manswer\u001b[0m\u001b[0;34m.\u001b[0m\u001b[0mupper\u001b[0m\u001b[0;34m(\u001b[0m\u001b[0;34m)\u001b[0m \u001b[0;32min\u001b[0m \u001b[0;34m[\u001b[0m\u001b[0;34m'Y'\u001b[0m\u001b[0;34m,\u001b[0m \u001b[0;34m'YES'\u001b[0m\u001b[0;34m]\u001b[0m\u001b[0;34m:\u001b[0m\u001b[0;34m\u001b[0m\u001b[0;34m\u001b[0m\u001b[0m\n",
            "\u001b[0;32m/usr/local/lib/python3.6/dist-packages/ipykernel/kernelbase.py\u001b[0m in \u001b[0;36mraw_input\u001b[0;34m(self, prompt)\u001b[0m\n\u001b[1;32m    702\u001b[0m             \u001b[0mself\u001b[0m\u001b[0;34m.\u001b[0m\u001b[0m_parent_ident\u001b[0m\u001b[0;34m,\u001b[0m\u001b[0;34m\u001b[0m\u001b[0;34m\u001b[0m\u001b[0m\n\u001b[1;32m    703\u001b[0m             \u001b[0mself\u001b[0m\u001b[0;34m.\u001b[0m\u001b[0m_parent_header\u001b[0m\u001b[0;34m,\u001b[0m\u001b[0;34m\u001b[0m\u001b[0;34m\u001b[0m\u001b[0m\n\u001b[0;32m--> 704\u001b[0;31m             \u001b[0mpassword\u001b[0m\u001b[0;34m=\u001b[0m\u001b[0;32mFalse\u001b[0m\u001b[0;34m,\u001b[0m\u001b[0;34m\u001b[0m\u001b[0;34m\u001b[0m\u001b[0m\n\u001b[0m\u001b[1;32m    705\u001b[0m         )\n\u001b[1;32m    706\u001b[0m \u001b[0;34m\u001b[0m\u001b[0m\n",
            "\u001b[0;32m/usr/local/lib/python3.6/dist-packages/ipykernel/kernelbase.py\u001b[0m in \u001b[0;36m_input_request\u001b[0;34m(self, prompt, ident, parent, password)\u001b[0m\n\u001b[1;32m    732\u001b[0m             \u001b[0;32mexcept\u001b[0m \u001b[0mKeyboardInterrupt\u001b[0m\u001b[0;34m:\u001b[0m\u001b[0;34m\u001b[0m\u001b[0;34m\u001b[0m\u001b[0m\n\u001b[1;32m    733\u001b[0m                 \u001b[0;31m# re-raise KeyboardInterrupt, to truncate traceback\u001b[0m\u001b[0;34m\u001b[0m\u001b[0;34m\u001b[0m\u001b[0;34m\u001b[0m\u001b[0m\n\u001b[0;32m--> 734\u001b[0;31m                 \u001b[0;32mraise\u001b[0m \u001b[0mKeyboardInterrupt\u001b[0m\u001b[0;34m\u001b[0m\u001b[0;34m\u001b[0m\u001b[0m\n\u001b[0m\u001b[1;32m    735\u001b[0m             \u001b[0;32melse\u001b[0m\u001b[0;34m:\u001b[0m\u001b[0;34m\u001b[0m\u001b[0;34m\u001b[0m\u001b[0m\n\u001b[1;32m    736\u001b[0m                 \u001b[0;32mbreak\u001b[0m\u001b[0;34m\u001b[0m\u001b[0;34m\u001b[0m\u001b[0m\n",
            "\u001b[0;31mKeyboardInterrupt\u001b[0m: "
          ]
        }
      ]
    },
    {
      "cell_type": "code",
      "metadata": {
        "id": "Y48GEMv7Q0uF"
      },
      "source": [
        "# Original image investigation\n",
        "filename = all_normal_folder + os.listdir(all_normal_folder)[337]\n",
        "sample_img = plt.imread(filename)\n",
        "\n",
        "plt.figure(figsize=[16,8])\n",
        "plt.subplot(121) \n",
        "plt.imshow(sample_img, cmap='gray')\n",
        "plt.colorbar()\n",
        "plt.title('Raw Chest X Ray Grayscale')\n",
        "\n",
        "plt.subplot(122) \n",
        "plt.imshow(sample_img, cmap='Spectral_r')\n",
        "plt.colorbar()\n",
        "plt.title('Raw Chest X Ray Spectral')\n",
        "\n",
        "print(\"{}x{} image. Single color channel.\".format(sample_img.shape[0], sample_img.shape[1]))\n",
        "print('Max pixel value: {}\\nMin pixel value: {}'.format(sample_img.max(), sample_img.min()))\n",
        "print('Mean value: {:.2f}\\nStd Dev: {:.2f}'.format(sample_img.mean(), sample_img.std()))"
      ],
      "execution_count": null,
      "outputs": []
    },
    {
      "cell_type": "code",
      "metadata": {
        "id": "5pxxOEKAKf03"
      },
      "source": [
        "# get all the data in the directory and downsample it\n",
        "\n",
        "n = len(os.listdir(test_folder + 'PNEUMONIA')) + len(os.listdir(test_folder + 'NORMAL'))\n",
        "test_generator = ImageDataGenerator(rescale=1./255).flow_from_directory(\n",
        "        test_folder, \n",
        "        target_size=(150, 150),\n",
        "        batch_size=n\n",
        "        ) \n",
        "\n",
        "n = len(os.listdir(val_folder + 'PNEUMONIA')) + len(os.listdir(val_folder + 'NORMAL'))\n",
        "val_generator = ImageDataGenerator(rescale=1./255).flow_from_directory(\n",
        "        val_folder, \n",
        "        target_size=(150, 150),\n",
        "        batch_size=n\n",
        "        )\n",
        "\n",
        "n = len(os.listdir(train_folder + 'PNEUMONIA')) + len(os.listdir(train_folder + 'NORMAL'))\n",
        "train_generator = ImageDataGenerator(rescale=1./255).flow_from_directory(\n",
        "        train_folder, \n",
        "        target_size=(150, 150),\n",
        "        batch_size=n\n",
        "        )\n",
        "\n",
        "\n",
        "##### \n",
        "# I WANT TO SWITCH THIS TO MAYBE AN 80/10/10 ratio in the folders"
      ],
      "execution_count": null,
      "outputs": []
    },
    {
      "cell_type": "code",
      "metadata": {
        "id": "LfcqSKuoGlX7"
      },
      "source": [
        "# create the data sets. \n",
        "# ⏰ ⏰ ⏰ ⏰ \n",
        "test_images, test_labels = next(test_generator)\n",
        "print('Test')\n",
        "val_images, val_labels = next(val_generator)\n",
        "print('Val')\n",
        "train_images, train_labels = next(train_generator)\n",
        "print('Train')\n",
        "\n"
      ],
      "execution_count": null,
      "outputs": []
    },
    {
      "cell_type": "code",
      "metadata": {
        "id": "kG7lNXETKDGy"
      },
      "source": [
        "# LITTLE EDA ON DOWNSAMPLED PICS\n",
        "\n",
        "plt.figure(figsize=(16,16))  # change the size of figure!\n",
        "\n",
        "for i in range(16):\n",
        "    img = train_images[i]\n",
        "    image_label = 'NORMAL' if train_labels[i][1] == 0 else 'PNEUMONIA'\n",
        "\n",
        "    plt.subplot(4, 4, i+1)\n",
        "    plt.imshow(img)\n",
        "    plt.subplots_adjust(left=None, bottom=None, right=None, top=None, wspace=None, hspace=0.4)\n",
        "    plt.title(image_label)  # Plot title here!!!\n",
        "\n",
        "plt.show()"
      ],
      "execution_count": null,
      "outputs": []
    },
    {
      "cell_type": "code",
      "metadata": {
        "id": "LFe6NGUcCNJr"
      },
      "source": [
        "# This block grabs some basic stats for all downsampled images\n",
        "\n",
        "def print_stats(title, my_stats, pixels, n):\n",
        "    print(title + \" Pixel Intensity (n = {})\".format(n))\n",
        "    print('Mean:             {:.3f}'.format(my_stats[0]))\n",
        "    print('Std:              {:.3f}'.format(my_stats[1]))\n",
        "    print('Black (0) Pixels: {:.2f}%'.format(my_stats[2] / pixels * 100))\n",
        "    print('White (1) Pixels: {:.2f}%'.format(my_stats[3] / pixels * 100))\n",
        "\n",
        "\n",
        "def some_stats(images, labels):\n",
        "  p_stats = [0, 0, 0, 0] # mean std black white\n",
        "  n_stats = [0, 0, 0, 0]\n",
        "  n_p = 0 # n pneu\n",
        "  n_n = 0 # n normal\n",
        "  pixels = len(images[0]) * len(images[0][0]) * 3 #3 channels\n",
        "\n",
        "  for i in range(len(images)):\n",
        "      my_img = images[i].flatten()\n",
        "      if labels[i][1] == 1:\n",
        "          n_p += 1\n",
        "          p_stats[0] += my_img.mean()\n",
        "          p_stats[1] += np.std(my_img)\n",
        "          p_stats[2] += np.count_nonzero(my_img == 0)\n",
        "          p_stats[3] += np.count_nonzero(my_img == 1)\n",
        "\n",
        "      else:\n",
        "          n_n += 1\n",
        "          n_stats[0] += img.mean()\n",
        "          n_stats[1] += img.std()\n",
        "          n_stats[2] += np.count_nonzero(my_img == 0)\n",
        "          n_stats[3] += np.count_nonzero(my_img == 1)\n",
        "\n",
        "  else:\n",
        "    n_stats = np.array(n_stats) / n_n\n",
        "    p_stats = np.array(p_stats) / n_p\n",
        "  \n",
        "  weight_normal = n_n / (n_n + n_p)\n",
        "  weight_pneumonia = 1 - weight_normal \n",
        "  print('Dataset Imbalance: {:.1f} Normal, {:.1f} Pneumonia'.format(weight_normal * 100, weight_pneumonia * 100))\n",
        "  print()\n",
        "  print_stats('Normal', n_stats, pixels, n_n)\n",
        "  print()\n",
        "  print_stats('Pneumonia', p_stats, pixels, n_p)\n",
        "\n",
        "# function just prints out some stats of interest from downsampled data\n",
        "some_stats(train_images, train_labels)"
      ],
      "execution_count": null,
      "outputs": []
    },
    {
      "cell_type": "code",
      "metadata": {
        "id": "ODo3JDX_Vq4t"
      },
      "source": [
        "train_images[0].shape"
      ],
      "execution_count": null,
      "outputs": []
    },
    {
      "cell_type": "code",
      "metadata": {
        "id": "VZ_JXRP6Gqzl"
      },
      "source": [
        "# Explore your dataset again\n",
        "m_train = train_images.shape[0]\n",
        "num_px = train_images.shape[1]\n",
        "m_test = test_images.shape[0]\n",
        "m_val = val_images.shape[0]\n",
        "\n",
        "print (\"Number of training samples: \" + str(m_train))\n",
        "print (\"Number of testing samples: \" + str(m_test))\n",
        "print (\"Number of validation samples: \" + str(m_val))\n",
        "print (\"train_images shape: \" + str(train_images.shape))\n",
        "print (\"train_labels shape: \" + str(train_labels.shape))\n",
        "print (\"test_images shape: \" + str(test_images.shape))\n",
        "print (\"test_labels shape: \" + str(test_labels.shape))\n",
        "print (\"val_images shape: \" + str(val_images.shape))\n",
        "print (\"val_labels shape: \" + str(val_labels.shape))"
      ],
      "execution_count": null,
      "outputs": []
    },
    {
      "cell_type": "code",
      "metadata": {
        "id": "RuJw-urrG0Ur"
      },
      "source": [
        "# SKIP ME\n",
        "train_img = train_images.reshape(train_images.shape[0], -1)\n",
        "test_img = test_images.reshape(test_images.shape[0], -1)\n",
        "val_img = val_images.reshape(val_images.shape[0], -1)\n",
        "\n",
        "print(train_img.shape)\n",
        "print(test_img.shape)\n",
        "print(val_img.shape)\n",
        "\n",
        "# crop down images as experiment\n",
        "train_images[0].shape\n",
        "crop_train_images = np.array([x[20:120, :, :] for x in train_images]) # height, width, channels\n",
        "crop_train_img = crop_train_images.reshape(crop_train_images.shape[0], -1)\n",
        "print(train_images[0].shape)\n",
        "print(crop_train_images[0].shape)\n",
        "\n",
        "crop_test_images = np.array([x[20:120, :, :] for x in test_images])\n",
        "crop_test_img = crop_test_images.reshape(crop_test_images.shape[0], -1)\n",
        "\n",
        "crop_val_images = np.array([x[20:120, :, :] for x in val_images])\n",
        "crop_val_img = crop_val_images.reshape(crop_val_images.shape[0], -1)"
      ],
      "execution_count": null,
      "outputs": []
    },
    {
      "cell_type": "code",
      "metadata": {
        "id": "-Qfesl5edb1Q"
      },
      "source": [
        "for i in range(10):\n",
        "  my_img = crop_train_images[i]\n",
        "  plt.imshow(my_img)\n",
        "  plt.show()"
      ],
      "execution_count": null,
      "outputs": []
    },
    {
      "cell_type": "code",
      "metadata": {
        "id": "q0fI4xZbttsT"
      },
      "source": [
        "\n",
        "for i in range(10):\n",
        "  plt.figure(figsize=(12,6))  # change the size of figure!\n",
        "  plt.subplot(121)\n",
        "  my_img = train_images[i]\n",
        "  classification = 'Normal' if train_labels[i][1]==0 else 'Pneumonia'\n",
        "\n",
        "  plt.imshow(my_img)\n",
        "  plt.title(classification)\n",
        "  label = \"Mean: {:.2f}, SD: {:.2f} Label: {}\".format(np.mean(my_img), np.std(my_img), classification)\n",
        "  \n",
        "  plt.subplot(122)\n",
        "  sns.distplot(my_img,\n",
        "              label=label,\n",
        "              kde=False)\n",
        "  plt.legend()\n",
        "  plt.title('Pixel Intensity of X-ray Images')\n",
        "  plt.xlabel('Pixel Intensity')\n",
        "  plt.ylabel('Total Pixels')\n",
        "  plt.show()\n",
        "\n"
      ],
      "execution_count": null,
      "outputs": []
    },
    {
      "cell_type": "code",
      "metadata": {
        "id": "G4Mg9ll2Nqkt"
      },
      "source": [
        "train_y = np.reshape(train_labels[:,0], (train_img.shape[0],1))\n",
        "test_y = np.reshape(test_labels[:,0], (test_img.shape[0],1))\n",
        "val_y = np.reshape(val_labels[:,0], (val_img.shape[0],1))\n",
        "\n",
        "# same for crop I thing"
      ],
      "execution_count": null,
      "outputs": []
    },
    {
      "cell_type": "code",
      "metadata": {
        "id": "PcQc-Ts6s8P3"
      },
      "source": [
        "# Build a baseline fully connected model\n",
        "\n",
        "np.random.seed(123)\n",
        "model = models.Sequential()\n",
        "model.add(layers.Dense(20, activation='relu', input_shape=(67500,))) # 2 hidden layers\n",
        "model.add(layers.Dense(7, activation='relu'))\n",
        "model.add(layers.Dense(5, activation='relu'))\n",
        "model.add(layers.Dense(1, activation='sigmoid'))"
      ],
      "execution_count": null,
      "outputs": []
    },
    {
      "cell_type": "code",
      "metadata": {
        "id": "8uajlFelZN0S"
      },
      "source": [
        "# CROP EXPERIMENT\n",
        "# Build a baseline fully connected model\n",
        "\n",
        "np.random.seed(123)\n",
        "crop_model = models.Sequential()\n",
        "crop_model.add(layers.Dense(20, activation='relu', input_shape=(100*150*3,))) # 2 hidden layers\n",
        "crop_model.add(layers.Dense(7, activation='relu'))\n",
        "crop_model.add(layers.Dense(5, activation='relu'))\n",
        "crop_model.add(layers.Dense(1, activation='sigmoid'))"
      ],
      "execution_count": null,
      "outputs": []
    },
    {
      "cell_type": "code",
      "metadata": {
        "id": "_kEccxH2tQ6r"
      },
      "source": [
        "model.compile(optimizer='sgd',\n",
        "              loss='binary_crossentropy',\n",
        "              metrics=['accuracy'])\n",
        "\n",
        "hist = model.fit(train_img,\n",
        "                    train_y,\n",
        "                    epochs=50,\n",
        "                    batch_size=20,\n",
        "                    steps_per_epoch=100,\n",
        "                    validation_data=(val_img, val_y))"
      ],
      "execution_count": null,
      "outputs": []
    },
    {
      "cell_type": "code",
      "metadata": {
        "id": "_huBome0Zh8p"
      },
      "source": [
        "# CROP EXPERIMENT\n",
        "\n",
        "crop_model.compile(optimizer='sgd',\n",
        "              loss='binary_crossentropy',\n",
        "              metrics=['accuracy'])\n",
        "\n",
        "hist = crop_model.fit(crop_train_img,\n",
        "                    train_y,\n",
        "                    epochs=50,\n",
        "                    batch_size=20,\n",
        "                    steps_per_epoch=100,\n",
        "                    validation_data=(crop_val_img, val_y))"
      ],
      "execution_count": null,
      "outputs": []
    },
    {
      "cell_type": "markdown",
      "metadata": {
        "id": "_oywLDLUxTSt"
      },
      "source": [
        "That's a pretty good first result using 50% of dataset we achieved 90.0% on test set.\n",
        "\n",
        "With entire dataset, we achieved 92.8%\n",
        "\n"
      ]
    },
    {
      "cell_type": "code",
      "metadata": {
        "id": "xyCF1H3-taA2"
      },
      "source": [
        "results_train = model.evaluate(train_img, train_y)\n",
        "print(results_train)\n",
        "\n",
        "results_test = model.evaluate(test_img, test_y)\n",
        "print(results_test)"
      ],
      "execution_count": null,
      "outputs": []
    },
    {
      "cell_type": "code",
      "metadata": {
        "id": "lnkIGZ0NTVKc"
      },
      "source": [
        "# Experimenting with cropping??\n",
        "\n",
        "results_train = crop_model.evaluate(crop_train_img, train_y)\n",
        "print(results_train)\n",
        "\n",
        "results_test = crop_model.evaluate(crop_test_img, test_y)\n",
        "print(results_test)"
      ],
      "execution_count": null,
      "outputs": []
    },
    {
      "cell_type": "markdown",
      "metadata": {
        "id": "tNDTl5Nax9iE"
      },
      "source": [
        "## Build the CNN"
      ]
    },
    {
      "cell_type": "code",
      "metadata": {
        "id": "iNxlIfEOTRpS"
      },
      "source": [
        "\n",
        "\n",
        "original_start = datetime.datetime.now()\n",
        "start = datetime.datetime.now()"
      ],
      "execution_count": null,
      "outputs": []
    },
    {
      "cell_type": "code",
      "metadata": {
        "id": "rRtiFETpTYRz"
      },
      "source": [
        "# All images will be rescaled by 1./255\n",
        "train_datagen = ImageDataGenerator(rescale=1./255)\n",
        "test_datagen = ImageDataGenerator(rescale=1./255)\n",
        "\n",
        "train_generator = train_datagen.flow_from_directory(\n",
        "        # This is the target directory\n",
        "        train_folder,\n",
        "        # All images will be resized to 150x150\n",
        "        target_size=(150, 150),\n",
        "        batch_size=20,\n",
        "        # Since we use binary_crossentropy loss, we need binary labels\n",
        "        class_mode='binary')\n",
        "\n",
        "validation_generator = test_datagen.flow_from_directory(val_folder,\n",
        "                                                        target_size=(150, 150),\n",
        "                                                        batch_size=20,\n",
        "                                                        class_mode='binary')\n",
        "\n"
      ],
      "execution_count": null,
      "outputs": []
    },
    {
      "cell_type": "code",
      "metadata": {
        "id": "eC0pf3g-xlz4"
      },
      "source": [
        "\n",
        "\n",
        "model2 = models.Sequential()\n",
        "model2.add(layers.Conv2D(32, (3, 3), activation='relu', input_shape=(150,150,3)))\n",
        "model2.add(layers.MaxPooling2D((2, 2)))\n",
        "\n",
        "model2.add(layers.Conv2D(64, (3, 3), activation='relu'))\n",
        "model2.add(layers.MaxPooling2D((2, 2)))\n",
        "\n",
        "model2.add(layers.Conv2D(128, (3, 3), activation='relu'))\n",
        "model2.add(layers.MaxPooling2D((2, 2)))\n",
        "\n",
        "model2.add(layers.Conv2D(128, (3, 3), activation='relu'))\n",
        "model2.add(layers.MaxPooling2D((2, 2)))\n",
        "\n",
        "model2.add(layers.Flatten())\n",
        "model2.add(layers.Dense(512, activation='relu'))\n",
        "\n",
        "model2.add(layers.Dense(1, activation='sigmoid'))"
      ],
      "execution_count": null,
      "outputs": []
    },
    {
      "cell_type": "code",
      "metadata": {
        "id": "CPO0Riim9tuw"
      },
      "source": [
        ""
      ],
      "execution_count": null,
      "outputs": []
    },
    {
      "cell_type": "markdown",
      "metadata": {
        "id": "a3fvGbD39usR"
      },
      "source": [
        ""
      ]
    },
    {
      "cell_type": "markdown",
      "metadata": {
        "id": "GSdVrfzK9RIy"
      },
      "source": [
        "![chest_xray_cnn_100_801010.h5.png](data:image/png;base64,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)"
      ]
    },
    {
      "cell_type": "code",
      "metadata": {
        "id": "UwI5Rgb433f9"
      },
      "source": [
        "\n",
        "model2.compile(loss='binary_crossentropy',\n",
        "              optimizer=optimizers.RMSprop(lr=1e-4),\n",
        "              metrics=['acc'])"
      ],
      "execution_count": null,
      "outputs": []
    },
    {
      "cell_type": "markdown",
      "metadata": {
        "id": "IRjUY9ht4WT8"
      },
      "source": [
        "#Training and evaluation"
      ]
    },
    {
      "cell_type": "code",
      "metadata": {
        "colab": {
          "base_uri": "https://localhost:8080/"
        },
        "id": "nyYrQo1ryIW2",
        "outputId": "b056bd97-5082-4ff5-d8b1-b4ab4a7fcdd8"
      },
      "source": [
        "# ⏰ This cell may take several minutes to run\n",
        "history2 = model2.fit(train_generator, \n",
        "                              steps_per_epoch=100, \n",
        "                              epochs=100, \n",
        "                              validation_data=validation_generator, \n",
        "                              validation_steps=50)"
      ],
      "execution_count": null,
      "outputs": [
        {
          "output_type": "stream",
          "text": [
            "Epoch 1/100\n",
            "100/100 [==============================] - ETA: 0s - loss: 0.4501 - acc: 0.7920WARNING:tensorflow:Your input ran out of data; interrupting training. Make sure that your dataset or generator can generate at least `steps_per_epoch * epochs` batches (in this case, 50 batches). You may need to use the repeat() function when building your dataset.\n",
            "100/100 [==============================] - 120s 1s/step - loss: 0.4501 - acc: 0.7920 - val_loss: 0.2957 - val_acc: 0.8701\n",
            "Epoch 2/100\n",
            "100/100 [==============================] - 106s 1s/step - loss: 0.2671 - acc: 0.8925\n",
            "Epoch 3/100\n",
            "100/100 [==============================] - 107s 1s/step - loss: 0.2022 - acc: 0.9230\n",
            "Epoch 4/100\n",
            "100/100 [==============================] - 106s 1s/step - loss: 0.1787 - acc: 0.9240\n",
            "Epoch 5/100\n",
            "100/100 [==============================] - 106s 1s/step - loss: 0.1597 - acc: 0.9385\n",
            "Epoch 6/100\n",
            "100/100 [==============================] - 106s 1s/step - loss: 0.1674 - acc: 0.9325\n",
            "Epoch 7/100\n",
            "100/100 [==============================] - 107s 1s/step - loss: 0.1350 - acc: 0.9535\n",
            "Epoch 8/100\n",
            "100/100 [==============================] - 107s 1s/step - loss: 0.1495 - acc: 0.9445\n",
            "Epoch 9/100\n",
            "100/100 [==============================] - 108s 1s/step - loss: 0.1355 - acc: 0.9465\n",
            "Epoch 10/100\n",
            "100/100 [==============================] - 106s 1s/step - loss: 0.1224 - acc: 0.9552\n",
            "Epoch 11/100\n",
            "100/100 [==============================] - 106s 1s/step - loss: 0.1202 - acc: 0.9600\n",
            "Epoch 12/100\n",
            "100/100 [==============================] - 106s 1s/step - loss: 0.1183 - acc: 0.9552\n",
            "Epoch 13/100\n",
            "100/100 [==============================] - 106s 1s/step - loss: 0.1026 - acc: 0.9620\n",
            "Epoch 14/100\n",
            "100/100 [==============================] - 105s 1s/step - loss: 0.1002 - acc: 0.9637\n",
            "Epoch 15/100\n",
            "100/100 [==============================] - 105s 1s/step - loss: 0.0978 - acc: 0.9622\n",
            "Epoch 16/100\n",
            "100/100 [==============================] - 105s 1s/step - loss: 0.0992 - acc: 0.9642\n",
            "Epoch 17/100\n",
            "100/100 [==============================] - 106s 1s/step - loss: 0.0898 - acc: 0.9680\n",
            "Epoch 18/100\n",
            "100/100 [==============================] - 106s 1s/step - loss: 0.0925 - acc: 0.9683\n",
            "Epoch 19/100\n",
            "100/100 [==============================] - 105s 1s/step - loss: 0.0839 - acc: 0.9723\n",
            "Epoch 20/100\n",
            "100/100 [==============================] - 105s 1s/step - loss: 0.1031 - acc: 0.9642\n",
            "Epoch 21/100\n",
            "100/100 [==============================] - 105s 1s/step - loss: 0.0774 - acc: 0.9708\n",
            "Epoch 22/100\n",
            "100/100 [==============================] - 106s 1s/step - loss: 0.0802 - acc: 0.9710\n",
            "Epoch 23/100\n",
            "100/100 [==============================] - 106s 1s/step - loss: 0.0766 - acc: 0.9695\n",
            "Epoch 24/100\n",
            "100/100 [==============================] - 106s 1s/step - loss: 0.0822 - acc: 0.9718\n",
            "Epoch 25/100\n",
            "100/100 [==============================] - 107s 1s/step - loss: 0.0696 - acc: 0.9740\n",
            "Epoch 26/100\n",
            "100/100 [==============================] - 107s 1s/step - loss: 0.0680 - acc: 0.9758\n",
            "Epoch 27/100\n",
            "100/100 [==============================] - 106s 1s/step - loss: 0.0709 - acc: 0.9743\n",
            "Epoch 28/100\n",
            "100/100 [==============================] - 107s 1s/step - loss: 0.0599 - acc: 0.9780\n",
            "Epoch 29/100\n",
            "100/100 [==============================] - 106s 1s/step - loss: 0.0598 - acc: 0.9780\n",
            "Epoch 30/100\n",
            "100/100 [==============================] - 106s 1s/step - loss: 0.0670 - acc: 0.9758\n",
            "Epoch 31/100\n",
            "100/100 [==============================] - 106s 1s/step - loss: 0.0653 - acc: 0.9798\n",
            "Epoch 32/100\n",
            "100/100 [==============================] - 107s 1s/step - loss: 0.0548 - acc: 0.9805\n",
            "Epoch 33/100\n",
            "100/100 [==============================] - 108s 1s/step - loss: 0.0483 - acc: 0.9860\n",
            "Epoch 34/100\n",
            "100/100 [==============================] - 106s 1s/step - loss: 0.0528 - acc: 0.9814\n",
            "Epoch 35/100\n",
            "100/100 [==============================] - 106s 1s/step - loss: 0.0480 - acc: 0.9824\n",
            "Epoch 36/100\n",
            "100/100 [==============================] - 106s 1s/step - loss: 0.0483 - acc: 0.9854\n",
            "Epoch 37/100\n",
            "100/100 [==============================] - 106s 1s/step - loss: 0.0515 - acc: 0.9800\n",
            "Epoch 38/100\n",
            "100/100 [==============================] - 107s 1s/step - loss: 0.0443 - acc: 0.9830\n",
            "Epoch 39/100\n",
            "100/100 [==============================] - 106s 1s/step - loss: 0.0529 - acc: 0.9835\n",
            "Epoch 40/100\n",
            "100/100 [==============================] - 105s 1s/step - loss: 0.0325 - acc: 0.9889\n",
            "Epoch 41/100\n",
            "100/100 [==============================] - 106s 1s/step - loss: 0.0426 - acc: 0.9845\n",
            "Epoch 42/100\n",
            "100/100 [==============================] - 106s 1s/step - loss: 0.0406 - acc: 0.9890\n",
            "Epoch 43/100\n",
            "100/100 [==============================] - 107s 1s/step - loss: 0.0380 - acc: 0.9850\n",
            "Epoch 44/100\n",
            "100/100 [==============================] - 106s 1s/step - loss: 0.0371 - acc: 0.9869\n",
            "Epoch 45/100\n",
            "100/100 [==============================] - 106s 1s/step - loss: 0.0330 - acc: 0.9879\n",
            "Epoch 46/100\n",
            "100/100 [==============================] - 106s 1s/step - loss: 0.0256 - acc: 0.9910\n",
            "Epoch 47/100\n",
            "100/100 [==============================] - 106s 1s/step - loss: 0.0311 - acc: 0.9869\n",
            "Epoch 48/100\n",
            "100/100 [==============================] - 106s 1s/step - loss: 0.0299 - acc: 0.9884\n",
            "Epoch 49/100\n",
            "100/100 [==============================] - 106s 1s/step - loss: 0.0241 - acc: 0.9925\n",
            "Epoch 50/100\n",
            "100/100 [==============================] - 106s 1s/step - loss: 0.0213 - acc: 0.9924\n",
            "Epoch 51/100\n",
            "100/100 [==============================] - 105s 1s/step - loss: 0.0218 - acc: 0.9929\n",
            "Epoch 52/100\n",
            "100/100 [==============================] - 106s 1s/step - loss: 0.0259 - acc: 0.9899\n",
            "Epoch 53/100\n",
            "100/100 [==============================] - 106s 1s/step - loss: 0.0270 - acc: 0.9925\n",
            "Epoch 54/100\n",
            "100/100 [==============================] - 106s 1s/step - loss: 0.0198 - acc: 0.9935\n",
            "Epoch 55/100\n",
            "100/100 [==============================] - 106s 1s/step - loss: 0.0189 - acc: 0.9929\n",
            "Epoch 56/100\n",
            "100/100 [==============================] - 105s 1s/step - loss: 0.0198 - acc: 0.9929\n",
            "Epoch 57/100\n",
            "100/100 [==============================] - 106s 1s/step - loss: 0.0215 - acc: 0.9940\n",
            "Epoch 58/100\n",
            "100/100 [==============================] - 107s 1s/step - loss: 0.0142 - acc: 0.9950\n",
            "Epoch 59/100\n",
            "100/100 [==============================] - 107s 1s/step - loss: 0.0158 - acc: 0.9960\n",
            "Epoch 60/100\n",
            "100/100 [==============================] - 107s 1s/step - loss: 0.0150 - acc: 0.9935\n",
            "Epoch 61/100\n",
            "100/100 [==============================] - 106s 1s/step - loss: 0.0134 - acc: 0.9955\n",
            "Epoch 62/100\n",
            "100/100 [==============================] - 106s 1s/step - loss: 0.0096 - acc: 0.9960\n",
            "Epoch 63/100\n",
            "100/100 [==============================] - 107s 1s/step - loss: 0.0106 - acc: 0.9960\n",
            "Epoch 64/100\n",
            "100/100 [==============================] - 106s 1s/step - loss: 0.0076 - acc: 0.9985\n",
            "Epoch 65/100\n",
            "100/100 [==============================] - 106s 1s/step - loss: 0.0074 - acc: 0.9970\n",
            "Epoch 66/100\n",
            "100/100 [==============================] - 105s 1s/step - loss: 0.0129 - acc: 0.9965\n",
            "Epoch 67/100\n",
            "100/100 [==============================] - 106s 1s/step - loss: 0.0080 - acc: 0.9965\n",
            "Epoch 68/100\n",
            "100/100 [==============================] - 106s 1s/step - loss: 0.0088 - acc: 0.9975\n",
            "Epoch 69/100\n",
            "100/100 [==============================] - 106s 1s/step - loss: 0.0120 - acc: 0.9940\n",
            "Epoch 70/100\n",
            "100/100 [==============================] - 106s 1s/step - loss: 0.0046 - acc: 0.9995\n",
            "Epoch 71/100\n",
            "100/100 [==============================] - 106s 1s/step - loss: 0.0081 - acc: 0.9970\n",
            "Epoch 72/100\n",
            "100/100 [==============================] - 106s 1s/step - loss: 0.0103 - acc: 0.9970\n",
            "Epoch 73/100\n",
            "100/100 [==============================] - 107s 1s/step - loss: 0.0024 - acc: 0.9995\n",
            "Epoch 74/100\n",
            "100/100 [==============================] - 107s 1s/step - loss: 0.0042 - acc: 0.9980\n",
            "Epoch 75/100\n",
            "100/100 [==============================] - 106s 1s/step - loss: 0.0073 - acc: 0.9980\n",
            "Epoch 76/100\n",
            "100/100 [==============================] - 106s 1s/step - loss: 0.0086 - acc: 0.9975\n",
            "Epoch 77/100\n",
            "100/100 [==============================] - 107s 1s/step - loss: 0.0051 - acc: 0.9980\n",
            "Epoch 78/100\n",
            "100/100 [==============================] - 106s 1s/step - loss: 0.0084 - acc: 0.9975\n",
            "Epoch 79/100\n",
            "100/100 [==============================] - 106s 1s/step - loss: 0.0034 - acc: 0.9975\n",
            "Epoch 80/100\n",
            "100/100 [==============================] - 106s 1s/step - loss: 0.0098 - acc: 0.9965\n",
            "Epoch 81/100\n",
            "100/100 [==============================] - 106s 1s/step - loss: 0.0038 - acc: 0.9985\n",
            "Epoch 82/100\n",
            "100/100 [==============================] - 108s 1s/step - loss: 0.0051 - acc: 0.9985\n",
            "Epoch 83/100\n",
            "100/100 [==============================] - 107s 1s/step - loss: 0.0105 - acc: 0.9965\n",
            "Epoch 84/100\n",
            "100/100 [==============================] - 106s 1s/step - loss: 0.0015 - acc: 1.0000\n",
            "Epoch 85/100\n",
            "100/100 [==============================] - 106s 1s/step - loss: 0.0046 - acc: 0.9980\n",
            "Epoch 86/100\n",
            "100/100 [==============================] - 107s 1s/step - loss: 0.0046 - acc: 0.9985\n",
            "Epoch 87/100\n",
            "100/100 [==============================] - 107s 1s/step - loss: 0.0019 - acc: 0.9995\n",
            "Epoch 88/100\n",
            "100/100 [==============================] - 108s 1s/step - loss: 0.0047 - acc: 0.9990\n",
            "Epoch 89/100\n",
            "100/100 [==============================] - 106s 1s/step - loss: 0.0019 - acc: 0.9995\n",
            "Epoch 90/100\n",
            "100/100 [==============================] - 107s 1s/step - loss: 0.0015 - acc: 0.9990\n",
            "Epoch 91/100\n",
            "100/100 [==============================] - 106s 1s/step - loss: 0.0036 - acc: 0.9980\n",
            "Epoch 92/100\n",
            "100/100 [==============================] - 107s 1s/step - loss: 0.0030 - acc: 0.9990\n",
            "Epoch 93/100\n",
            "100/100 [==============================] - 107s 1s/step - loss: 0.0020 - acc: 0.9995\n",
            "Epoch 94/100\n",
            "100/100 [==============================] - 106s 1s/step - loss: 0.0061 - acc: 0.9985\n",
            "Epoch 95/100\n",
            "100/100 [==============================] - 106s 1s/step - loss: 0.0049 - acc: 0.9990\n",
            "Epoch 96/100\n",
            "100/100 [==============================] - 106s 1s/step - loss: 0.0026 - acc: 0.9990\n",
            "Epoch 97/100\n",
            "100/100 [==============================] - 107s 1s/step - loss: 0.0023 - acc: 0.9985\n",
            "Epoch 98/100\n",
            "100/100 [==============================] - 106s 1s/step - loss: 0.0012 - acc: 0.9995\n",
            "Epoch 99/100\n",
            "100/100 [==============================] - 107s 1s/step - loss: 0.0035 - acc: 0.9995\n",
            "Epoch 100/100\n",
            "100/100 [==============================] - 106s 1s/step - loss: 0.0080 - acc: 0.9980\n"
          ],
          "name": "stdout"
        }
      ]
    },
    {
      "cell_type": "code",
      "metadata": {
        "colab": {
          "base_uri": "https://localhost:8080/"
        },
        "id": "hyv04nQu1IsU",
        "outputId": "0be5a799-9c92-4ebd-ad10-6d90a79f86d4"
      },
      "source": [
        "history2.history"
      ],
      "execution_count": null,
      "outputs": [
        {
          "output_type": "execute_result",
          "data": {
            "text/plain": [
              "{'acc': [0.8863179087638855,\n",
              "  0.9024145007133484,\n",
              "  0.9144869446754456,\n",
              "  0.9390000104904175,\n",
              "  0.9315895438194275,\n",
              "  0.9399999976158142,\n",
              "  0.9476861357688904,\n",
              "  0.9449999928474426,\n",
              "  0.9470000267028809,\n",
              "  0.9446679949760437,\n",
              "  0.949999988079071,\n",
              "  0.9507042169570923,\n",
              "  0.9486921429634094,\n",
              "  0.9580000042915344,\n",
              "  0.9649999737739563,\n",
              "  0.9567404389381409,\n",
              "  0.9647887349128723,\n",
              "  0.9599999785423279,\n",
              "  0.968812882900238,\n",
              "  0.968999981880188],\n",
              " 'loss': [0.26900139451026917,\n",
              "  0.22198349237442017,\n",
              "  0.19621245563030243,\n",
              "  0.17067980766296387,\n",
              "  0.16919320821762085,\n",
              "  0.16040924191474915,\n",
              "  0.13726185262203217,\n",
              "  0.14122334122657776,\n",
              "  0.13388510048389435,\n",
              "  0.1440018266439438,\n",
              "  0.1267293393611908,\n",
              "  0.11510766297578812,\n",
              "  0.11839642375707626,\n",
              "  0.10649406164884567,\n",
              "  0.09181804955005646,\n",
              "  0.11125336587429047,\n",
              "  0.09108427911996841,\n",
              "  0.08890698105096817,\n",
              "  0.07721123844385147,\n",
              "  0.08441054821014404]}"
            ]
          },
          "metadata": {
            "tags": []
          },
          "execution_count": 66
        }
      ]
    },
    {
      "cell_type": "code",
      "metadata": {
        "colab": {
          "base_uri": "https://localhost:8080/"
        },
        "id": "imtysMgZZcVP",
        "outputId": "0cdbd77b-46b3-41db-9f7e-03cf540c086c"
      },
      "source": [
        "model2.summary()"
      ],
      "execution_count": null,
      "outputs": [
        {
          "output_type": "stream",
          "text": [
            "Model: \"sequential_4\"\n",
            "_________________________________________________________________\n",
            "Layer (type)                 Output Shape              Param #   \n",
            "=================================================================\n",
            "conv2d_8 (Conv2D)            (None, 148, 148, 32)      896       \n",
            "_________________________________________________________________\n",
            "max_pooling2d_8 (MaxPooling2 (None, 74, 74, 32)        0         \n",
            "_________________________________________________________________\n",
            "conv2d_9 (Conv2D)            (None, 72, 72, 64)        18496     \n",
            "_________________________________________________________________\n",
            "max_pooling2d_9 (MaxPooling2 (None, 36, 36, 64)        0         \n",
            "_________________________________________________________________\n",
            "conv2d_10 (Conv2D)           (None, 34, 34, 128)       73856     \n",
            "_________________________________________________________________\n",
            "max_pooling2d_10 (MaxPooling (None, 17, 17, 128)       0         \n",
            "_________________________________________________________________\n",
            "conv2d_11 (Conv2D)           (None, 15, 15, 128)       147584    \n",
            "_________________________________________________________________\n",
            "max_pooling2d_11 (MaxPooling (None, 7, 7, 128)         0         \n",
            "_________________________________________________________________\n",
            "flatten_2 (Flatten)          (None, 6272)              0         \n",
            "_________________________________________________________________\n",
            "dense_12 (Dense)             (None, 512)               3211776   \n",
            "_________________________________________________________________\n",
            "dense_13 (Dense)             (None, 1)                 513       \n",
            "=================================================================\n",
            "Total params: 3,453,121\n",
            "Trainable params: 3,453,121\n",
            "Non-trainable params: 0\n",
            "_________________________________________________________________\n"
          ],
          "name": "stdout"
        }
      ]
    },
    {
      "cell_type": "code",
      "metadata": {
        "colab": {
          "base_uri": "https://localhost:8080/",
          "height": 269
        },
        "id": "GvAMiAkT-JJa",
        "outputId": "37993b3e-30a0-450d-c7ea-343caf19f020"
      },
      "source": [
        "\n",
        "\n",
        "print(history2.history)\n",
        "\n",
        "acc = history2.history['acc']\n",
        "val_acc = history2.history['val_acc']\n",
        "loss = history2.history['loss']\n",
        "val_loss = history2.history['val_loss']\n",
        "epochs = range(len(acc))\n",
        "plt.plot(epochs, acc, 'bo', label='Training acc')\n",
        "plt.plot(epochs, val_acc, 'b', label='Validation acc')\n",
        "plt.title('Training and validation accuracy')\n",
        "plt.legend()\n",
        "plt.figure()\n",
        "plt.plot(epochs, loss, 'bo', label='Training loss')\n",
        "plt.plot(epochs, val_loss, 'b', label='Validation loss')\n",
        "plt.title('Training and validation loss')\n",
        "plt.legend()\n",
        "plt.show()"
      ],
      "execution_count": null,
      "outputs": [
        {
          "output_type": "stream",
          "text": [
            "{'loss': [0.26900139451026917, 0.22198349237442017, 0.19621245563030243, 0.17067980766296387, 0.16919320821762085, 0.16040924191474915, 0.13726185262203217, 0.14122334122657776, 0.13388510048389435, 0.1440018266439438, 0.1267293393611908, 0.11510766297578812, 0.11839642375707626, 0.10649406164884567, 0.09181804955005646, 0.11125336587429047, 0.09108427911996841, 0.08890698105096817, 0.07721123844385147, 0.08441054821014404], 'acc': [0.8863179087638855, 0.9024145007133484, 0.9144869446754456, 0.9390000104904175, 0.9315895438194275, 0.9399999976158142, 0.9476861357688904, 0.9449999928474426, 0.9470000267028809, 0.9446679949760437, 0.949999988079071, 0.9507042169570923, 0.9486921429634094, 0.9580000042915344, 0.9649999737739563, 0.9567404389381409, 0.9647887349128723, 0.9599999785423279, 0.968812882900238, 0.968999981880188]}\n"
          ],
          "name": "stdout"
        },
        {
          "output_type": "error",
          "ename": "KeyError",
          "evalue": "ignored",
          "traceback": [
            "\u001b[0;31m---------------------------------------------------------------------------\u001b[0m",
            "\u001b[0;31mKeyError\u001b[0m                                  Traceback (most recent call last)",
            "\u001b[0;32m<ipython-input-68-3d094a23e26b>\u001b[0m in \u001b[0;36m<module>\u001b[0;34m()\u001b[0m\n\u001b[1;32m      5\u001b[0m \u001b[0;34m\u001b[0m\u001b[0m\n\u001b[1;32m      6\u001b[0m \u001b[0macc\u001b[0m \u001b[0;34m=\u001b[0m \u001b[0mhistory2\u001b[0m\u001b[0;34m.\u001b[0m\u001b[0mhistory\u001b[0m\u001b[0;34m[\u001b[0m\u001b[0;34m'acc'\u001b[0m\u001b[0;34m]\u001b[0m\u001b[0;34m\u001b[0m\u001b[0;34m\u001b[0m\u001b[0m\n\u001b[0;32m----> 7\u001b[0;31m \u001b[0mval_acc\u001b[0m \u001b[0;34m=\u001b[0m \u001b[0mhistory2\u001b[0m\u001b[0;34m.\u001b[0m\u001b[0mhistory\u001b[0m\u001b[0;34m[\u001b[0m\u001b[0;34m'val_acc'\u001b[0m\u001b[0;34m]\u001b[0m\u001b[0;34m\u001b[0m\u001b[0;34m\u001b[0m\u001b[0m\n\u001b[0m\u001b[1;32m      8\u001b[0m \u001b[0mloss\u001b[0m \u001b[0;34m=\u001b[0m \u001b[0mhistory2\u001b[0m\u001b[0;34m.\u001b[0m\u001b[0mhistory\u001b[0m\u001b[0;34m[\u001b[0m\u001b[0;34m'loss'\u001b[0m\u001b[0;34m]\u001b[0m\u001b[0;34m\u001b[0m\u001b[0;34m\u001b[0m\u001b[0m\n\u001b[1;32m      9\u001b[0m \u001b[0mval_loss\u001b[0m \u001b[0;34m=\u001b[0m \u001b[0mhistory2\u001b[0m\u001b[0;34m.\u001b[0m\u001b[0mhistory\u001b[0m\u001b[0;34m[\u001b[0m\u001b[0;34m'val_loss'\u001b[0m\u001b[0;34m]\u001b[0m\u001b[0;34m\u001b[0m\u001b[0;34m\u001b[0m\u001b[0m\n",
            "\u001b[0;31mKeyError\u001b[0m: 'val_acc'"
          ]
        }
      ]
    },
    {
      "cell_type": "markdown",
      "metadata": {
        "id": "ZoJF-33x-KzD"
      },
      "source": [
        "The accuracy with just 50% of the dataset is over 96% (training acc).  Let's see how it performs with new data."
      ]
    },
    {
      "cell_type": "code",
      "metadata": {
        "colab": {
          "base_uri": "https://localhost:8080/"
        },
        "id": "qMXoHzcDUWQL",
        "outputId": "ef26c778-a11c-47c9-e0ff-44cc8a092bae"
      },
      "source": [
        "end = datetime.datetime.now()\n",
        "elapsed = end - start\n",
        "print('Training took a total of {}'.format(elapsed))"
      ],
      "execution_count": null,
      "outputs": [
        {
          "output_type": "stream",
          "text": [
            "Training took a total of 0:24:38.446406\n"
          ],
          "name": "stdout"
        }
      ]
    },
    {
      "cell_type": "code",
      "metadata": {
        "id": "Z2-1VGJm-Vhf"
      },
      "source": [
        "model2.save('/content/drive/MyDrive/chest_xray/chest_xray_cnn_100_801010.h5')\n"
      ],
      "execution_count": null,
      "outputs": []
    },
    {
      "cell_type": "code",
      "metadata": {
        "colab": {
          "base_uri": "https://localhost:8080/",
          "height": 215
        },
        "id": "HZfrYrdgadb0",
        "outputId": "fa8b5509-5f80-48a1-b66a-f81f4ef70071"
      },
      "source": [
        ""
      ],
      "execution_count": null,
      "outputs": [
        {
          "output_type": "error",
          "ename": "NameError",
          "evalue": "ignored",
          "traceback": [
            "\u001b[0;31m---------------------------------------------------------------------------\u001b[0m",
            "\u001b[0;31mNameError\u001b[0m                                 Traceback (most recent call last)",
            "\u001b[0;32m<ipython-input-1-a412abd65af3>\u001b[0m in \u001b[0;36m<module>\u001b[0;34m()\u001b[0m\n\u001b[1;32m      1\u001b[0m \u001b[0;32mimport\u001b[0m \u001b[0mpickle\u001b[0m\u001b[0;34m\u001b[0m\u001b[0;34m\u001b[0m\u001b[0m\n\u001b[0;32m----> 2\u001b[0;31m model2.deploy_model(description='Final model',\n\u001b[0m\u001b[1;32m      3\u001b[0m                 \u001b[0mauthor\u001b[0m\u001b[0;34m=\u001b[0m\u001b[0;34m\"Aaron Lee\"\u001b[0m\u001b[0;34m,\u001b[0m \u001b[0morganisation\u001b[0m\u001b[0;34m=\u001b[0m\u001b[0;34m'Flatiron'\u001b[0m\u001b[0;34m,\u001b[0m\u001b[0;34m\u001b[0m\u001b[0;34m\u001b[0m\u001b[0m\n\u001b[1;32m      4\u001b[0m                 file_name='xrays.sav')\n",
            "\u001b[0;31mNameError\u001b[0m: name 'model2' is not defined"
          ]
        }
      ]
    },
    {
      "cell_type": "code",
      "metadata": {
        "colab": {
          "base_uri": "https://localhost:8080/"
        },
        "id": "UNE2huvO-9CD",
        "outputId": "3c73a06c-64e5-4727-cb0a-e49fa7c447d4"
      },
      "source": [
        "test_generator = test_datagen.flow_from_directory(test_folder, \n",
        "                                                  target_size=(150, 150), \n",
        "                                                  batch_size=20, \n",
        "                                                  class_mode='binary')\n",
        "\n",
        "test_loss, test_acc = model2.evaluate_generator(test_generator, steps=10)\n",
        "print('test acc:', test_acc)"
      ],
      "execution_count": null,
      "outputs": [
        {
          "output_type": "stream",
          "text": [
            "Found 585 images belonging to 2 classes.\n",
            "WARNING:tensorflow:From <ipython-input-219-9dbff99a5c8e>:6: Model.evaluate_generator (from tensorflow.python.keras.engine.training) is deprecated and will be removed in a future version.\n",
            "Instructions for updating:\n",
            "Please use Model.evaluate, which supports generators.\n",
            "test acc: 0.9549999833106995\n"
          ],
          "name": "stdout"
        }
      ]
    },
    {
      "cell_type": "code",
      "metadata": {
        "colab": {
          "base_uri": "https://localhost:8080/"
        },
        "id": "hphRGQZpNXAe",
        "outputId": "5ef225c9-c356-4a60-9b59-f5b2a0bea06c"
      },
      "source": [
        "model.predict()"
      ],
      "execution_count": null,
      "outputs": [
        {
          "output_type": "stream",
          "text": [
            "Model: \"sequential_4\"\n",
            "_________________________________________________________________\n",
            "Layer (type)                 Output Shape              Param #   \n",
            "=================================================================\n",
            "conv2d_8 (Conv2D)            (None, 148, 148, 32)      896       \n",
            "_________________________________________________________________\n",
            "max_pooling2d_8 (MaxPooling2 (None, 74, 74, 32)        0         \n",
            "_________________________________________________________________\n",
            "conv2d_9 (Conv2D)            (None, 72, 72, 64)        18496     \n",
            "_________________________________________________________________\n",
            "max_pooling2d_9 (MaxPooling2 (None, 36, 36, 64)        0         \n",
            "_________________________________________________________________\n",
            "conv2d_10 (Conv2D)           (None, 34, 34, 128)       73856     \n",
            "_________________________________________________________________\n",
            "max_pooling2d_10 (MaxPooling (None, 17, 17, 128)       0         \n",
            "_________________________________________________________________\n",
            "conv2d_11 (Conv2D)           (None, 15, 15, 128)       147584    \n",
            "_________________________________________________________________\n",
            "max_pooling2d_11 (MaxPooling (None, 7, 7, 128)         0         \n",
            "_________________________________________________________________\n",
            "flatten_2 (Flatten)          (None, 6272)              0         \n",
            "_________________________________________________________________\n",
            "dense_12 (Dense)             (None, 512)               3211776   \n",
            "_________________________________________________________________\n",
            "dense_13 (Dense)             (None, 1)                 513       \n",
            "=================================================================\n",
            "Total params: 3,453,121\n",
            "Trainable params: 3,453,121\n",
            "Non-trainable params: 0\n",
            "_________________________________________________________________\n"
          ],
          "name": "stdout"
        }
      ]
    },
    {
      "cell_type": "code",
      "metadata": {
        "id": "kgZjm5AcbOVZ"
      },
      "source": [
        "# I want to try a dropout strategy.  Not sure if it applies here\n",
        "\n",
        "model3 = models.Sequential()\n",
        "\n",
        "\n",
        "model3.add(layers.Conv2D(32, (3, 3), activation='relu',\n",
        "                        input_shape=(150, 150, 3)))\n",
        "model3.add(layers.MaxPooling2D((2, 2)))\n",
        "model3.add(layers.Dropout(0.2))\n",
        "model3.add(layers.Conv2D(64, (3, 3), activation='relu'))\n",
        "model3.add(layers.MaxPooling2D((2, 2)))\n",
        "model3.add(layers.Dropout(0.2))\n",
        "model3.add(layers.Conv2D(128, (3, 3), activation='relu'))\n",
        "model3.add(layers.MaxPooling2D((2, 2)))\n",
        "#model3.add(layers.Dropout(0.2))\n",
        "model3.add(layers.Conv2D(128, (3, 3), activation='relu'))\n",
        "model3.add(layers.MaxPooling2D((2, 2)))\n",
        "#model3.add(layers.Dropout(0.2))\n",
        "model3.add(layers.Flatten())\n",
        "model3.add(layers.Dense(512, activation='relu'))\n",
        "model3.add(layers.Dense(1, activation='sigmoid'))"
      ],
      "execution_count": null,
      "outputs": []
    },
    {
      "cell_type": "code",
      "metadata": {
        "id": "rfcrP24YdrFL"
      },
      "source": [
        "model3.compile(loss='binary_crossentropy',\n",
        "              optimizer=optimizers.RMSprop(lr=1e-4),\n",
        "              metrics=['acc'])"
      ],
      "execution_count": null,
      "outputs": []
    },
    {
      "cell_type": "code",
      "metadata": {
        "colab": {
          "base_uri": "https://localhost:8080/"
        },
        "id": "uhhLThgYdwOf",
        "outputId": "34078371-0247-4e19-b2a5-3a0745698955"
      },
      "source": [
        "history3 = model3.fit_generator(train_generator, \n",
        "                              steps_per_epoch=50, \n",
        "                              epochs=20, \n",
        "                              validation_data=validation_generator, \n",
        "                              validation_steps=20)"
      ],
      "execution_count": null,
      "outputs": [
        {
          "output_type": "stream",
          "text": [
            "Epoch 1/20\n",
            "50/50 [==============================] - ETA: 0s - loss: 0.5674 - acc: 0.7324WARNING:tensorflow:Your input ran out of data; interrupting training. Make sure that your dataset or generator can generate at least `steps_per_epoch * epochs` batches (in this case, 20 batches). You may need to use the repeat() function when building your dataset.\n",
            "50/50 [==============================] - 59s 1s/step - loss: 0.5674 - acc: 0.7324 - val_loss: 0.6299 - val_acc: 0.7468\n",
            "Epoch 2/20\n",
            "50/50 [==============================] - 54s 1s/step - loss: 0.4624 - acc: 0.8008\n",
            "Epoch 3/20\n",
            "50/50 [==============================] - 54s 1s/step - loss: 0.3320 - acc: 0.8520\n",
            "Epoch 4/20\n",
            "50/50 [==============================] - 57s 1s/step - loss: 0.2889 - acc: 0.8783\n",
            "Epoch 5/20\n",
            "50/50 [==============================] - 54s 1s/step - loss: 0.2567 - acc: 0.8930\n",
            "Epoch 6/20\n",
            "50/50 [==============================] - 54s 1s/step - loss: 0.2360 - acc: 0.9095\n",
            "Epoch 7/20\n",
            "50/50 [==============================] - 54s 1s/step - loss: 0.2319 - acc: 0.9095\n",
            "Epoch 8/20\n",
            "50/50 [==============================] - 54s 1s/step - loss: 0.2046 - acc: 0.9165\n",
            "Epoch 9/20\n",
            "50/50 [==============================] - 54s 1s/step - loss: 0.1915 - acc: 0.9240\n",
            "Epoch 10/20\n",
            "50/50 [==============================] - 54s 1s/step - loss: 0.1735 - acc: 0.9400\n",
            "Epoch 11/20\n",
            "50/50 [==============================] - 54s 1s/step - loss: 0.1908 - acc: 0.9230\n",
            "Epoch 12/20\n",
            "50/50 [==============================] - 54s 1s/step - loss: 0.1857 - acc: 0.9356\n",
            "Epoch 13/20\n",
            "50/50 [==============================] - 55s 1s/step - loss: 0.1627 - acc: 0.9360\n",
            "Epoch 14/20\n",
            "50/50 [==============================] - 54s 1s/step - loss: 0.1749 - acc: 0.9286\n",
            "Epoch 15/20\n",
            "50/50 [==============================] - 57s 1s/step - loss: 0.1592 - acc: 0.9376\n",
            "Epoch 16/20\n",
            "50/50 [==============================] - 54s 1s/step - loss: 0.1590 - acc: 0.9430\n",
            "Epoch 17/20\n",
            "50/50 [==============================] - 54s 1s/step - loss: 0.1504 - acc: 0.9430\n",
            "Epoch 18/20\n",
            "50/50 [==============================] - 54s 1s/step - loss: 0.1442 - acc: 0.9487\n",
            "Epoch 19/20\n",
            "50/50 [==============================] - 54s 1s/step - loss: 0.1441 - acc: 0.9550\n",
            "Epoch 20/20\n",
            "50/50 [==============================] - 55s 1s/step - loss: 0.1406 - acc: 0.9450\n"
          ],
          "name": "stdout"
        }
      ]
    },
    {
      "cell_type": "code",
      "metadata": {
        "id": "Fk03BRI7d21O"
      },
      "source": [
        ""
      ],
      "execution_count": null,
      "outputs": []
    },
    {
      "cell_type": "code",
      "metadata": {
        "colab": {
          "base_uri": "https://localhost:8080/"
        },
        "id": "wMAT4BTTfhqI",
        "outputId": "06f43466-c8f2-40bb-fa18-6d41cc60fbac"
      },
      "source": [
        "test_generator = test_datagen.flow_from_directory(test_folder, \n",
        "                                                  target_size=(150, 150), \n",
        "                                                  batch_size=20, \n",
        "                                                  class_mode='binary')\n",
        "\n",
        "test_loss, test_acc = model3.evaluate_generator(test_generator, steps=10)\n",
        "print('test acc:', test_acc)"
      ],
      "execution_count": null,
      "outputs": [
        {
          "output_type": "stream",
          "text": [
            "Found 234 images belonging to 2 classes.\n",
            "test acc: 0.8899999856948853\n"
          ],
          "name": "stdout"
        }
      ]
    },
    {
      "cell_type": "code",
      "metadata": {
        "id": "REKuIT_sjA04"
      },
      "source": [
        "model3.save('/content/drive/MyDrive/chest_xray/chest_xray_cnn_dropout_40_801010.h5')"
      ],
      "execution_count": null,
      "outputs": []
    },
    {
      "cell_type": "markdown",
      "metadata": {
        "id": "Pe-GVnRDoiVE"
      },
      "source": [
        "Make a quick evaluator for new images"
      ]
    },
    {
      "cell_type": "code",
      "metadata": {
        "id": "EVFXZOTr_n-L",
        "colab": {
          "base_uri": "https://localhost:8080/",
          "height": 215
        },
        "outputId": "a336d6ae-4f3f-458a-e04a-1197d4fd8150"
      },
      "source": [
        "# we can now load the saved model\n",
        "\n",
        "model = load_model('/content/drive/MyDrive/chest_xray/chest_xray_cnn_50_801010.h5')\n",
        "\n"
      ],
      "execution_count": null,
      "outputs": [
        {
          "output_type": "error",
          "ename": "NameError",
          "evalue": "ignored",
          "traceback": [
            "\u001b[0;31m---------------------------------------------------------------------------\u001b[0m",
            "\u001b[0;31mNameError\u001b[0m                                 Traceback (most recent call last)",
            "\u001b[0;32m<ipython-input-2-e36df537c443>\u001b[0m in \u001b[0;36m<module>\u001b[0;34m()\u001b[0m\n\u001b[1;32m      1\u001b[0m \u001b[0;31m# we can now load the saved model\u001b[0m\u001b[0;34m\u001b[0m\u001b[0;34m\u001b[0m\u001b[0;34m\u001b[0m\u001b[0m\n\u001b[1;32m      2\u001b[0m \u001b[0;34m\u001b[0m\u001b[0m\n\u001b[0;32m----> 3\u001b[0;31m \u001b[0mmodel\u001b[0m \u001b[0;34m=\u001b[0m \u001b[0mload_model\u001b[0m\u001b[0;34m(\u001b[0m\u001b[0;34m'/content/drive/MyDrive/chest_xray/chest_xray_cnn_50_801010.h5'\u001b[0m\u001b[0;34m)\u001b[0m\u001b[0;34m\u001b[0m\u001b[0;34m\u001b[0m\u001b[0m\n\u001b[0m\u001b[1;32m      4\u001b[0m \u001b[0;34m\u001b[0m\u001b[0m\n",
            "\u001b[0;31mNameError\u001b[0m: name 'load_model' is not defined"
          ]
        }
      ]
    },
    {
      "cell_type": "code",
      "metadata": {
        "id": "t4smm91-bG3j"
      },
      "source": [
        "#this is so we can send it to flask\n",
        "model.deploy_model(description='Final model',\n",
        "                author=\"Aaron Lee\", organisation='Flatiron',\n",
        "                file_name='xrays.sav')"
      ],
      "execution_count": null,
      "outputs": []
    },
    {
      "cell_type": "code",
      "metadata": {
        "colab": {
          "base_uri": "https://localhost:8080/",
          "height": 249
        },
        "id": "10uHiK5aok3j",
        "outputId": "7364bdbd-19dc-48e2-b7c1-8a840e632068"
      },
      "source": [
        "\n",
        "\n",
        "correct = 0\n",
        "incorrect = 0\n",
        "\n",
        "print(\"{:12}{:12}{:12}{:12}\".format('Label', 'Prediction', 'Float', 'Correct?'))\n",
        "\n",
        "# go through some images and predict them individually.\n",
        "for i in range(len(test_images)):\n",
        "  img = test_images[i]\n",
        "  #print(img.shape)\n",
        "  img = img.reshape(-1, 150,150, 3)\n",
        "\n",
        "  #print(type(test_labels[i][0]))\n",
        "  if test_labels[i][1] > 0:\n",
        "    image_label = 'NORMAL'\n",
        "  else:\n",
        "    image_label = 'PNEUMONIA'\n",
        "  #image_label = 'NORMAL' if test_labels[i][1] == 0 else 'PNEUMONIA'\n",
        "\n",
        "\n",
        "  result = model2.predict(img)\n",
        "  pred_float = result[0][0]\n",
        "\n",
        "  if result[0].round() > 0:\n",
        "    prediction = 'NORMAL'\n",
        "  else:\n",
        "    prediction = 'PNEUMONIA'  \n",
        "  \n",
        "  print('{:12}{:12}{:<12.2f}'.format(image_label, prediction, pred_float), end=' ')\n",
        "\n",
        "  if prediction == image_label:\n",
        "    correct += 1\n",
        "    print(\"\\U0001F603\") \n",
        "  else:\n",
        "    incorrect += 1\n",
        "    print(u'\\u274C')\n",
        "\n",
        "\n",
        "  \n",
        "\n",
        "print(correct / (correct + incorrect))\n",
        "\n",
        "\n"
      ],
      "execution_count": null,
      "outputs": [
        {
          "output_type": "stream",
          "text": [
            "Label       Prediction  Float       Correct?    \n"
          ],
          "name": "stdout"
        },
        {
          "output_type": "error",
          "ename": "NameError",
          "evalue": "ignored",
          "traceback": [
            "\u001b[0;31m---------------------------------------------------------------------------\u001b[0m",
            "\u001b[0;31mNameError\u001b[0m                                 Traceback (most recent call last)",
            "\u001b[0;32m<ipython-input-90-f54e7c50a94f>\u001b[0m in \u001b[0;36m<module>\u001b[0;34m()\u001b[0m\n\u001b[1;32m     23\u001b[0m \u001b[0;34m\u001b[0m\u001b[0m\n\u001b[1;32m     24\u001b[0m \u001b[0;34m\u001b[0m\u001b[0m\n\u001b[0;32m---> 25\u001b[0;31m   \u001b[0mresult\u001b[0m \u001b[0;34m=\u001b[0m \u001b[0mmodel2\u001b[0m\u001b[0;34m.\u001b[0m\u001b[0mpredict\u001b[0m\u001b[0;34m(\u001b[0m\u001b[0mimg\u001b[0m\u001b[0;34m)\u001b[0m\u001b[0;34m\u001b[0m\u001b[0;34m\u001b[0m\u001b[0m\n\u001b[0m\u001b[1;32m     26\u001b[0m   \u001b[0mpred_float\u001b[0m \u001b[0;34m=\u001b[0m \u001b[0mresult\u001b[0m\u001b[0;34m[\u001b[0m\u001b[0;36m0\u001b[0m\u001b[0;34m]\u001b[0m\u001b[0;34m[\u001b[0m\u001b[0;36m0\u001b[0m\u001b[0;34m]\u001b[0m\u001b[0;34m\u001b[0m\u001b[0;34m\u001b[0m\u001b[0m\n\u001b[1;32m     27\u001b[0m \u001b[0;34m\u001b[0m\u001b[0m\n",
            "\u001b[0;31mNameError\u001b[0m: name 'model2' is not defined"
          ]
        }
      ]
    },
    {
      "cell_type": "code",
      "metadata": {
        "colab": {
          "base_uri": "https://localhost:8080/"
        },
        "id": "4UMebVlzSQBY",
        "outputId": "c471a37c-e15d-4c1e-d5e2-c902ad41040c"
      },
      "source": [
        "print(len(test_images))   \n"
      ],
      "execution_count": null,
      "outputs": [
        {
          "output_type": "stream",
          "text": [
            "234\n"
          ],
          "name": "stdout"
        }
      ]
    },
    {
      "cell_type": "code",
      "metadata": {
        "colab": {
          "base_uri": "https://localhost:8080/"
        },
        "id": "UM4tc3rcNmLY",
        "outputId": "eae0a37e-01e7-4809-e15c-16d08e6ee8d2"
      },
      "source": [
        "test_images.reshape(67500,-1).shape\n",
        "#train_img.shape"
      ],
      "execution_count": null,
      "outputs": [
        {
          "output_type": "execute_result",
          "data": {
            "text/plain": [
              "(67500, 585)"
            ]
          },
          "metadata": {
            "tags": []
          },
          "execution_count": 240
        }
      ]
    },
    {
      "cell_type": "code",
      "metadata": {
        "id": "MIDTu9_9Yhm0",
        "colab": {
          "base_uri": "https://localhost:8080/"
        },
        "outputId": "5c764e9e-9d70-4998-a4b0-ae5a96e51089"
      },
      "source": [
        "# CONFUSION MATRIX AND SCORING\n",
        "\n",
        "preds = model2.predict(test_images) # Use your best model. For CNN I used test_images, for baseline I used test_img\n",
        "#acc = accuracy_score(test_y, np.round(preds))*100 \n",
        "acc = (1-accuracy_score(test_y, np.round(preds)))*100  # my test_y is backwards for model2!!\n",
        "cm = confusion_matrix(test_y, np.round(preds))\n",
        "fn, tp, tn, fp = cm.ravel()\n",
        "\n",
        "print('Confusion matrix')\n",
        "print(cm)\n",
        "\n",
        "print('\\nMETRICS:')\n",
        "precision = tp/(tp+fp)*100\n",
        "recall = tp/(tp+fn)*100\n",
        "print('Accuracy: {:.2f}%'.format(acc))\n",
        "print('Precision: {:.2f}%'.format(precision))\n",
        "print('Recall: {:.2f}%'.format(recall))\n",
        "print('F1-score: {:.2f}'.format(2*precision*recall/(precision+recall)))\n"
      ],
      "execution_count": null,
      "outputs": [
        {
          "output_type": "stream",
          "text": [
            "Confusion matrix\n",
            "[[  7 420]\n",
            " [140  18]]\n",
            "\n",
            "METRICS:\n",
            "Accuracy: 95.73%\n",
            "Precision: 95.89%\n",
            "Recall: 98.36%\n",
            "F1-score: 97.11\n"
          ],
          "name": "stdout"
        }
      ]
    },
    {
      "cell_type": "code",
      "metadata": {
        "colab": {
          "base_uri": "https://localhost:8080/"
        },
        "id": "-mmGpWLMi65W",
        "outputId": "5a42aefd-4e43-426c-a62d-eaf7276a0dce"
      },
      "source": [
        "hist.history.keys()\n",
        "#model.predict(train_img) # Pick the best model"
      ],
      "execution_count": null,
      "outputs": [
        {
          "output_type": "execute_result",
          "data": {
            "text/plain": [
              "dict_keys(['loss', 'accuracy', 'val_loss', 'val_accuracy'])"
            ]
          },
          "metadata": {
            "tags": []
          },
          "execution_count": 255
        }
      ]
    },
    {
      "cell_type": "code",
      "metadata": {
        "colab": {
          "base_uri": "https://localhost:8080/",
          "height": 495
        },
        "id": "v6gaVtYjnifq",
        "outputId": "122bdf57-3934-4877-9ad8-43d328f4b6f3"
      },
      "source": [
        "\n",
        "\n",
        "df_cm = pd.DataFrame(cm, columns=np.unique(test_y), index = np.unique(test_y))\n",
        "df_cm.index.name = 'Actual'\n",
        "df_cm.columns.name = 'Predicted'\n",
        "plt.figure(figsize = (8,7))\n",
        "sn.set(font_scale=1.4)#for label size\n",
        "sn.heatmap(df_cm, cmap=\"Blues\", annot=True,annot_kws={\"size\": 16}, fmt='g', cbar=False)# font size\n",
        "plt.xticks([0.5, 1.5], ['Normal', 'Pneumonia'])\n",
        "plt.yticks([0.3, 1.4], ['Pneumonia', 'Normal'])\n",
        "plt.title('Chest X-ray Confusion Matrix')\n"
      ],
      "execution_count": null,
      "outputs": [
        {
          "output_type": "execute_result",
          "data": {
            "text/plain": [
              "Text(0.5, 1.0, 'Chest X-ray Confusion Matrix')"
            ]
          },
          "metadata": {
            "tags": []
          },
          "execution_count": 257
        },
        {
          "output_type": "display_data",
          "data": {
            "image/png": "[encoded data removed]",
            "text/plain": [
              "<Figure size 576x504 with 1 Axes>"
            ]
          },
          "metadata": {
            "tags": [],
            "needs_background": "light"
          }
        }
      ]
    },
    {
      "cell_type": "code",
      "metadata": {
        "colab": {
          "base_uri": "https://localhost:8080/"
        },
        "id": "G9OeEju6pN4z",
        "outputId": "09c91bd8-3aec-4b6a-a548-8fdf140c96b5"
      },
      "source": [
        "len(os.listdir(all_normal_folder))"
      ],
      "execution_count": null,
      "outputs": [
        {
          "output_type": "execute_result",
          "data": {
            "text/plain": [
              "1583"
            ]
          },
          "metadata": {
            "tags": []
          },
          "execution_count": 67
        }
      ]
    },
    {
      "cell_type": "code",
      "metadata": {
        "colab": {
          "base_uri": "https://localhost:8080/"
        },
        "id": "kk0K55nVs79_",
        "outputId": "993a7fba-a382-4548-966b-058fff1000a4"
      },
      "source": [
        "len(os.listdir(all_pneumonia_folder))"
      ],
      "execution_count": null,
      "outputs": [
        {
          "output_type": "execute_result",
          "data": {
            "text/plain": [
              "4274"
            ]
          },
          "metadata": {
            "tags": []
          },
          "execution_count": 68
        }
      ]
    },
    {
      "cell_type": "code",
      "metadata": {
        "colab": {
          "base_uri": "https://localhost:8080/",
          "height": 725
        },
        "id": "sLbAnZGZs-MJ",
        "outputId": "fdc52a92-f8c0-4390-dbf8-0701eb1d2c34"
      },
      "source": [
        "\n",
        "#print(hist.history.keys())\n",
        "\n",
        "plt.style.use('ggplot')\n",
        "\n",
        "plt.figure(figsize=[12,12])\n",
        "plt.subplot(211)\n",
        "acc = history2.history['acc']\n",
        "val_acc = history2.history['val_acc']\n",
        "loss = history2.history['loss']\n",
        "val_loss = history2.history['val_loss']\n",
        "epochs = range(len(acc))\n",
        "plt.plot(epochs, acc, 'r', label='Training acc')\n",
        "#plt.plot(epochs, val_acc, 'b', label='Validation acc')\n",
        "plt.title('Training and validation accuracy')\n",
        "plt.legend()\n",
        "\n",
        "plt.subplot(212)\n",
        "plt.plot(epochs, loss, 'r', label='Training loss')\n",
        "#plt.plot(epochs, val_loss, 'b', label='Validation loss')\n",
        "plt.title('Training and validation loss')\n",
        "plt.legend()\n",
        "plt.show()"
      ],
      "execution_count": null,
      "outputs": [
        {
          "output_type": "display_data",
          "data": {
            "image/png": "[encoded data removed]",
            "text/plain": [
              "<Figure size 864x864 with 2 Axes>"
            ]
          },
          "metadata": {
            "tags": []
          }
        }
      ]
    },
    {
      "cell_type": "code",
      "metadata": {
        "id": "ov5ukK0Gwj5O",
        "colab": {
          "base_uri": "https://localhost:8080/"
        },
        "outputId": "27dd5a41-547d-4012-acd6-bed5c251a07f"
      },
      "source": [
        "history2.history['val_acc']"
      ],
      "execution_count": null,
      "outputs": [
        {
          "output_type": "execute_result",
          "data": {
            "text/plain": [
              "[0.8700854778289795]"
            ]
          },
          "metadata": {
            "tags": []
          },
          "execution_count": 263
        }
      ]
    },
    {
      "cell_type": "code",
      "metadata": {
        "id": "5EN48cCWLpH5",
        "colab": {
          "base_uri": "https://localhost:8080/"
        },
        "outputId": "dcb488f3-4e51-4bfc-99a3-d4b9afe0e972"
      },
      "source": [
        "history2.history.keys()"
      ],
      "execution_count": null,
      "outputs": [
        {
          "output_type": "execute_result",
          "data": {
            "text/plain": [
              "dict_keys(['loss', 'acc', 'val_loss', 'val_acc'])"
            ]
          },
          "metadata": {
            "tags": []
          },
          "execution_count": 268
        }
      ]
    },
    {
      "cell_type": "code",
      "metadata": {
        "colab": {
          "base_uri": "https://localhost:8080/"
        },
        "id": "nCuElcHXSlsL",
        "outputId": "2901a114-3160-42dd-d917-ae1ca50cab35"
      },
      "source": [
        "# PREDICTION MACHINE\n",
        "\n",
        "model2.predict(np.array([test_images[13]]))[0][0].round()"
      ],
      "execution_count": null,
      "outputs": [
        {
          "output_type": "execute_result",
          "data": {
            "text/plain": [
              "1.0"
            ]
          },
          "metadata": {
            "tags": []
          },
          "execution_count": 307
        }
      ]
    },
    {
      "cell_type": "code",
      "metadata": {
        "colab": {
          "base_uri": "https://localhost:8080/",
          "height": 681
        },
        "id": "XoYgON4Ub46Q",
        "outputId": "230ee699-d85d-400e-85fc-baa72c288474"
      },
      "source": [
        "model2.predict(test_images[0])"
      ],
      "execution_count": null,
      "outputs": [
        {
          "output_type": "error",
          "ename": "ValueError",
          "evalue": "ignored",
          "traceback": [
            "\u001b[0;31m---------------------------------------------------------------------------\u001b[0m",
            "\u001b[0;31mValueError\u001b[0m                                Traceback (most recent call last)",
            "\u001b[0;32m<ipython-input-294-170698a25013>\u001b[0m in \u001b[0;36m<module>\u001b[0;34m()\u001b[0m\n\u001b[0;32m----> 1\u001b[0;31m \u001b[0mmodel2\u001b[0m\u001b[0;34m.\u001b[0m\u001b[0mpredict\u001b[0m\u001b[0;34m(\u001b[0m\u001b[0mtest_images\u001b[0m\u001b[0;34m[\u001b[0m\u001b[0;36m0\u001b[0m\u001b[0;34m]\u001b[0m\u001b[0;34m)\u001b[0m\u001b[0;34m\u001b[0m\u001b[0;34m\u001b[0m\u001b[0m\n\u001b[0m",
            "\u001b[0;32m/usr/local/lib/python3.6/dist-packages/tensorflow/python/keras/engine/training.py\u001b[0m in \u001b[0;36m_method_wrapper\u001b[0;34m(self, *args, **kwargs)\u001b[0m\n\u001b[1;32m    128\u001b[0m       raise ValueError('{} is not supported in multi-worker mode.'.format(\n\u001b[1;32m    129\u001b[0m           method.__name__))\n\u001b[0;32m--> 130\u001b[0;31m     \u001b[0;32mreturn\u001b[0m \u001b[0mmethod\u001b[0m\u001b[0;34m(\u001b[0m\u001b[0mself\u001b[0m\u001b[0;34m,\u001b[0m \u001b[0;34m*\u001b[0m\u001b[0margs\u001b[0m\u001b[0;34m,\u001b[0m \u001b[0;34m**\u001b[0m\u001b[0mkwargs\u001b[0m\u001b[0;34m)\u001b[0m\u001b[0;34m\u001b[0m\u001b[0;34m\u001b[0m\u001b[0m\n\u001b[0m\u001b[1;32m    131\u001b[0m \u001b[0;34m\u001b[0m\u001b[0m\n\u001b[1;32m    132\u001b[0m   return tf_decorator.make_decorator(\n",
            "\u001b[0;32m/usr/local/lib/python3.6/dist-packages/tensorflow/python/keras/engine/training.py\u001b[0m in \u001b[0;36mpredict\u001b[0;34m(self, x, batch_size, verbose, steps, callbacks, max_queue_size, workers, use_multiprocessing)\u001b[0m\n\u001b[1;32m   1597\u001b[0m           \u001b[0;32mfor\u001b[0m \u001b[0mstep\u001b[0m \u001b[0;32min\u001b[0m \u001b[0mdata_handler\u001b[0m\u001b[0;34m.\u001b[0m\u001b[0msteps\u001b[0m\u001b[0;34m(\u001b[0m\u001b[0;34m)\u001b[0m\u001b[0;34m:\u001b[0m\u001b[0;34m\u001b[0m\u001b[0;34m\u001b[0m\u001b[0m\n\u001b[1;32m   1598\u001b[0m             \u001b[0mcallbacks\u001b[0m\u001b[0;34m.\u001b[0m\u001b[0mon_predict_batch_begin\u001b[0m\u001b[0;34m(\u001b[0m\u001b[0mstep\u001b[0m\u001b[0;34m)\u001b[0m\u001b[0;34m\u001b[0m\u001b[0;34m\u001b[0m\u001b[0m\n\u001b[0;32m-> 1599\u001b[0;31m             \u001b[0mtmp_batch_outputs\u001b[0m \u001b[0;34m=\u001b[0m \u001b[0mpredict_function\u001b[0m\u001b[0;34m(\u001b[0m\u001b[0miterator\u001b[0m\u001b[0;34m)\u001b[0m\u001b[0;34m\u001b[0m\u001b[0;34m\u001b[0m\u001b[0m\n\u001b[0m\u001b[1;32m   1600\u001b[0m             \u001b[0;32mif\u001b[0m \u001b[0mdata_handler\u001b[0m\u001b[0;34m.\u001b[0m\u001b[0mshould_sync\u001b[0m\u001b[0;34m:\u001b[0m\u001b[0;34m\u001b[0m\u001b[0;34m\u001b[0m\u001b[0m\n\u001b[1;32m   1601\u001b[0m               \u001b[0mcontext\u001b[0m\u001b[0;34m.\u001b[0m\u001b[0masync_wait\u001b[0m\u001b[0;34m(\u001b[0m\u001b[0;34m)\u001b[0m\u001b[0;34m\u001b[0m\u001b[0;34m\u001b[0m\u001b[0m\n",
            "\u001b[0;32m/usr/local/lib/python3.6/dist-packages/tensorflow/python/eager/def_function.py\u001b[0m in \u001b[0;36m__call__\u001b[0;34m(self, *args, **kwds)\u001b[0m\n\u001b[1;32m    778\u001b[0m       \u001b[0;32melse\u001b[0m\u001b[0;34m:\u001b[0m\u001b[0;34m\u001b[0m\u001b[0;34m\u001b[0m\u001b[0m\n\u001b[1;32m    779\u001b[0m         \u001b[0mcompiler\u001b[0m \u001b[0;34m=\u001b[0m \u001b[0;34m\"nonXla\"\u001b[0m\u001b[0;34m\u001b[0m\u001b[0;34m\u001b[0m\u001b[0m\n\u001b[0;32m--> 780\u001b[0;31m         \u001b[0mresult\u001b[0m \u001b[0;34m=\u001b[0m \u001b[0mself\u001b[0m\u001b[0;34m.\u001b[0m\u001b[0m_call\u001b[0m\u001b[0;34m(\u001b[0m\u001b[0;34m*\u001b[0m\u001b[0margs\u001b[0m\u001b[0;34m,\u001b[0m \u001b[0;34m**\u001b[0m\u001b[0mkwds\u001b[0m\u001b[0;34m)\u001b[0m\u001b[0;34m\u001b[0m\u001b[0;34m\u001b[0m\u001b[0m\n\u001b[0m\u001b[1;32m    781\u001b[0m \u001b[0;34m\u001b[0m\u001b[0m\n\u001b[1;32m    782\u001b[0m       \u001b[0mnew_tracing_count\u001b[0m \u001b[0;34m=\u001b[0m \u001b[0mself\u001b[0m\u001b[0;34m.\u001b[0m\u001b[0m_get_tracing_count\u001b[0m\u001b[0;34m(\u001b[0m\u001b[0;34m)\u001b[0m\u001b[0;34m\u001b[0m\u001b[0;34m\u001b[0m\u001b[0m\n",
            "\u001b[0;32m/usr/local/lib/python3.6/dist-packages/tensorflow/python/eager/def_function.py\u001b[0m in \u001b[0;36m_call\u001b[0;34m(self, *args, **kwds)\u001b[0m\n\u001b[1;32m    812\u001b[0m       \u001b[0;31m# In this case we have not created variables on the first call. So we can\u001b[0m\u001b[0;34m\u001b[0m\u001b[0;34m\u001b[0m\u001b[0;34m\u001b[0m\u001b[0m\n\u001b[1;32m    813\u001b[0m       \u001b[0;31m# run the first trace but we should fail if variables are created.\u001b[0m\u001b[0;34m\u001b[0m\u001b[0;34m\u001b[0m\u001b[0;34m\u001b[0m\u001b[0m\n\u001b[0;32m--> 814\u001b[0;31m       \u001b[0mresults\u001b[0m \u001b[0;34m=\u001b[0m \u001b[0mself\u001b[0m\u001b[0;34m.\u001b[0m\u001b[0m_stateful_fn\u001b[0m\u001b[0;34m(\u001b[0m\u001b[0;34m*\u001b[0m\u001b[0margs\u001b[0m\u001b[0;34m,\u001b[0m \u001b[0;34m**\u001b[0m\u001b[0mkwds\u001b[0m\u001b[0;34m)\u001b[0m\u001b[0;34m\u001b[0m\u001b[0;34m\u001b[0m\u001b[0m\n\u001b[0m\u001b[1;32m    815\u001b[0m       \u001b[0;32mif\u001b[0m \u001b[0mself\u001b[0m\u001b[0;34m.\u001b[0m\u001b[0m_created_variables\u001b[0m\u001b[0;34m:\u001b[0m\u001b[0;34m\u001b[0m\u001b[0;34m\u001b[0m\u001b[0m\n\u001b[1;32m    816\u001b[0m         raise ValueError(\"Creating variables on a non-first call to a function\"\n",
            "\u001b[0;32m/usr/local/lib/python3.6/dist-packages/tensorflow/python/eager/function.py\u001b[0m in \u001b[0;36m__call__\u001b[0;34m(self, *args, **kwargs)\u001b[0m\n\u001b[1;32m   2826\u001b[0m     \u001b[0;34m\"\"\"Calls a graph function specialized to the inputs.\"\"\"\u001b[0m\u001b[0;34m\u001b[0m\u001b[0;34m\u001b[0m\u001b[0m\n\u001b[1;32m   2827\u001b[0m     \u001b[0;32mwith\u001b[0m \u001b[0mself\u001b[0m\u001b[0;34m.\u001b[0m\u001b[0m_lock\u001b[0m\u001b[0;34m:\u001b[0m\u001b[0;34m\u001b[0m\u001b[0;34m\u001b[0m\u001b[0m\n\u001b[0;32m-> 2828\u001b[0;31m       \u001b[0mgraph_function\u001b[0m\u001b[0;34m,\u001b[0m \u001b[0margs\u001b[0m\u001b[0;34m,\u001b[0m \u001b[0mkwargs\u001b[0m \u001b[0;34m=\u001b[0m \u001b[0mself\u001b[0m\u001b[0;34m.\u001b[0m\u001b[0m_maybe_define_function\u001b[0m\u001b[0;34m(\u001b[0m\u001b[0margs\u001b[0m\u001b[0;34m,\u001b[0m \u001b[0mkwargs\u001b[0m\u001b[0;34m)\u001b[0m\u001b[0;34m\u001b[0m\u001b[0;34m\u001b[0m\u001b[0m\n\u001b[0m\u001b[1;32m   2829\u001b[0m     \u001b[0;32mreturn\u001b[0m \u001b[0mgraph_function\u001b[0m\u001b[0;34m.\u001b[0m\u001b[0m_filtered_call\u001b[0m\u001b[0;34m(\u001b[0m\u001b[0margs\u001b[0m\u001b[0;34m,\u001b[0m \u001b[0mkwargs\u001b[0m\u001b[0;34m)\u001b[0m  \u001b[0;31m# pylint: disable=protected-access\u001b[0m\u001b[0;34m\u001b[0m\u001b[0;34m\u001b[0m\u001b[0m\n\u001b[1;32m   2830\u001b[0m \u001b[0;34m\u001b[0m\u001b[0m\n",
            "\u001b[0;32m/usr/local/lib/python3.6/dist-packages/tensorflow/python/eager/function.py\u001b[0m in \u001b[0;36m_maybe_define_function\u001b[0;34m(self, args, kwargs)\u001b[0m\n\u001b[1;32m   3208\u001b[0m           \u001b[0;32mand\u001b[0m \u001b[0mself\u001b[0m\u001b[0;34m.\u001b[0m\u001b[0minput_signature\u001b[0m \u001b[0;32mis\u001b[0m \u001b[0;32mNone\u001b[0m\u001b[0;34m\u001b[0m\u001b[0;34m\u001b[0m\u001b[0m\n\u001b[1;32m   3209\u001b[0m           and call_context_key in self._function_cache.missed):\n\u001b[0;32m-> 3210\u001b[0;31m         \u001b[0;32mreturn\u001b[0m \u001b[0mself\u001b[0m\u001b[0;34m.\u001b[0m\u001b[0m_define_function_with_shape_relaxation\u001b[0m\u001b[0;34m(\u001b[0m\u001b[0margs\u001b[0m\u001b[0;34m,\u001b[0m \u001b[0mkwargs\u001b[0m\u001b[0;34m)\u001b[0m\u001b[0;34m\u001b[0m\u001b[0;34m\u001b[0m\u001b[0m\n\u001b[0m\u001b[1;32m   3211\u001b[0m \u001b[0;34m\u001b[0m\u001b[0m\n\u001b[1;32m   3212\u001b[0m       \u001b[0mself\u001b[0m\u001b[0;34m.\u001b[0m\u001b[0m_function_cache\u001b[0m\u001b[0;34m.\u001b[0m\u001b[0mmissed\u001b[0m\u001b[0;34m.\u001b[0m\u001b[0madd\u001b[0m\u001b[0;34m(\u001b[0m\u001b[0mcall_context_key\u001b[0m\u001b[0;34m)\u001b[0m\u001b[0;34m\u001b[0m\u001b[0;34m\u001b[0m\u001b[0m\n",
            "\u001b[0;32m/usr/local/lib/python3.6/dist-packages/tensorflow/python/eager/function.py\u001b[0m in \u001b[0;36m_define_function_with_shape_relaxation\u001b[0;34m(self, args, kwargs)\u001b[0m\n\u001b[1;32m   3140\u001b[0m \u001b[0;34m\u001b[0m\u001b[0m\n\u001b[1;32m   3141\u001b[0m     graph_function = self._create_graph_function(\n\u001b[0;32m-> 3142\u001b[0;31m         args, kwargs, override_flat_arg_shapes=relaxed_arg_shapes)\n\u001b[0m\u001b[1;32m   3143\u001b[0m     \u001b[0mself\u001b[0m\u001b[0;34m.\u001b[0m\u001b[0m_function_cache\u001b[0m\u001b[0;34m.\u001b[0m\u001b[0marg_relaxed\u001b[0m\u001b[0;34m[\u001b[0m\u001b[0mrank_only_cache_key\u001b[0m\u001b[0;34m]\u001b[0m \u001b[0;34m=\u001b[0m \u001b[0mgraph_function\u001b[0m\u001b[0;34m\u001b[0m\u001b[0;34m\u001b[0m\u001b[0m\n\u001b[1;32m   3144\u001b[0m \u001b[0;34m\u001b[0m\u001b[0m\n",
            "\u001b[0;32m/usr/local/lib/python3.6/dist-packages/tensorflow/python/eager/function.py\u001b[0m in \u001b[0;36m_create_graph_function\u001b[0;34m(self, args, kwargs, override_flat_arg_shapes)\u001b[0m\n\u001b[1;32m   3073\u001b[0m             \u001b[0marg_names\u001b[0m\u001b[0;34m=\u001b[0m\u001b[0marg_names\u001b[0m\u001b[0;34m,\u001b[0m\u001b[0;34m\u001b[0m\u001b[0;34m\u001b[0m\u001b[0m\n\u001b[1;32m   3074\u001b[0m             \u001b[0moverride_flat_arg_shapes\u001b[0m\u001b[0;34m=\u001b[0m\u001b[0moverride_flat_arg_shapes\u001b[0m\u001b[0;34m,\u001b[0m\u001b[0;34m\u001b[0m\u001b[0;34m\u001b[0m\u001b[0m\n\u001b[0;32m-> 3075\u001b[0;31m             capture_by_value=self._capture_by_value),\n\u001b[0m\u001b[1;32m   3076\u001b[0m         \u001b[0mself\u001b[0m\u001b[0;34m.\u001b[0m\u001b[0m_function_attributes\u001b[0m\u001b[0;34m,\u001b[0m\u001b[0;34m\u001b[0m\u001b[0;34m\u001b[0m\u001b[0m\n\u001b[1;32m   3077\u001b[0m         \u001b[0mfunction_spec\u001b[0m\u001b[0;34m=\u001b[0m\u001b[0mself\u001b[0m\u001b[0;34m.\u001b[0m\u001b[0mfunction_spec\u001b[0m\u001b[0;34m,\u001b[0m\u001b[0;34m\u001b[0m\u001b[0;34m\u001b[0m\u001b[0m\n",
            "\u001b[0;32m/usr/local/lib/python3.6/dist-packages/tensorflow/python/framework/func_graph.py\u001b[0m in \u001b[0;36mfunc_graph_from_py_func\u001b[0;34m(name, python_func, args, kwargs, signature, func_graph, autograph, autograph_options, add_control_dependencies, arg_names, op_return_value, collections, capture_by_value, override_flat_arg_shapes)\u001b[0m\n\u001b[1;32m    984\u001b[0m         \u001b[0m_\u001b[0m\u001b[0;34m,\u001b[0m \u001b[0moriginal_func\u001b[0m \u001b[0;34m=\u001b[0m \u001b[0mtf_decorator\u001b[0m\u001b[0;34m.\u001b[0m\u001b[0munwrap\u001b[0m\u001b[0;34m(\u001b[0m\u001b[0mpython_func\u001b[0m\u001b[0;34m)\u001b[0m\u001b[0;34m\u001b[0m\u001b[0;34m\u001b[0m\u001b[0m\n\u001b[1;32m    985\u001b[0m \u001b[0;34m\u001b[0m\u001b[0m\n\u001b[0;32m--> 986\u001b[0;31m       \u001b[0mfunc_outputs\u001b[0m \u001b[0;34m=\u001b[0m \u001b[0mpython_func\u001b[0m\u001b[0;34m(\u001b[0m\u001b[0;34m*\u001b[0m\u001b[0mfunc_args\u001b[0m\u001b[0;34m,\u001b[0m \u001b[0;34m**\u001b[0m\u001b[0mfunc_kwargs\u001b[0m\u001b[0;34m)\u001b[0m\u001b[0;34m\u001b[0m\u001b[0;34m\u001b[0m\u001b[0m\n\u001b[0m\u001b[1;32m    987\u001b[0m \u001b[0;34m\u001b[0m\u001b[0m\n\u001b[1;32m    988\u001b[0m       \u001b[0;31m# invariant: `func_outputs` contains only Tensors, CompositeTensors,\u001b[0m\u001b[0;34m\u001b[0m\u001b[0;34m\u001b[0m\u001b[0;34m\u001b[0m\u001b[0m\n",
            "\u001b[0;32m/usr/local/lib/python3.6/dist-packages/tensorflow/python/eager/def_function.py\u001b[0m in \u001b[0;36mwrapped_fn\u001b[0;34m(*args, **kwds)\u001b[0m\n\u001b[1;32m    598\u001b[0m         \u001b[0;31m# __wrapped__ allows AutoGraph to swap in a converted function. We give\u001b[0m\u001b[0;34m\u001b[0m\u001b[0;34m\u001b[0m\u001b[0;34m\u001b[0m\u001b[0m\n\u001b[1;32m    599\u001b[0m         \u001b[0;31m# the function a weak reference to itself to avoid a reference cycle.\u001b[0m\u001b[0;34m\u001b[0m\u001b[0;34m\u001b[0m\u001b[0;34m\u001b[0m\u001b[0m\n\u001b[0;32m--> 600\u001b[0;31m         \u001b[0;32mreturn\u001b[0m \u001b[0mweak_wrapped_fn\u001b[0m\u001b[0;34m(\u001b[0m\u001b[0;34m)\u001b[0m\u001b[0;34m.\u001b[0m\u001b[0m__wrapped__\u001b[0m\u001b[0;34m(\u001b[0m\u001b[0;34m*\u001b[0m\u001b[0margs\u001b[0m\u001b[0;34m,\u001b[0m \u001b[0;34m**\u001b[0m\u001b[0mkwds\u001b[0m\u001b[0;34m)\u001b[0m\u001b[0;34m\u001b[0m\u001b[0;34m\u001b[0m\u001b[0m\n\u001b[0m\u001b[1;32m    601\u001b[0m     \u001b[0mweak_wrapped_fn\u001b[0m \u001b[0;34m=\u001b[0m \u001b[0mweakref\u001b[0m\u001b[0;34m.\u001b[0m\u001b[0mref\u001b[0m\u001b[0;34m(\u001b[0m\u001b[0mwrapped_fn\u001b[0m\u001b[0;34m)\u001b[0m\u001b[0;34m\u001b[0m\u001b[0;34m\u001b[0m\u001b[0m\n\u001b[1;32m    602\u001b[0m \u001b[0;34m\u001b[0m\u001b[0m\n",
            "\u001b[0;32m/usr/local/lib/python3.6/dist-packages/tensorflow/python/framework/func_graph.py\u001b[0m in \u001b[0;36mwrapper\u001b[0;34m(*args, **kwargs)\u001b[0m\n\u001b[1;32m    971\u001b[0m           \u001b[0;32mexcept\u001b[0m \u001b[0mException\u001b[0m \u001b[0;32mas\u001b[0m \u001b[0me\u001b[0m\u001b[0;34m:\u001b[0m  \u001b[0;31m# pylint:disable=broad-except\u001b[0m\u001b[0;34m\u001b[0m\u001b[0;34m\u001b[0m\u001b[0m\n\u001b[1;32m    972\u001b[0m             \u001b[0;32mif\u001b[0m \u001b[0mhasattr\u001b[0m\u001b[0;34m(\u001b[0m\u001b[0me\u001b[0m\u001b[0;34m,\u001b[0m \u001b[0;34m\"ag_error_metadata\"\u001b[0m\u001b[0;34m)\u001b[0m\u001b[0;34m:\u001b[0m\u001b[0;34m\u001b[0m\u001b[0;34m\u001b[0m\u001b[0m\n\u001b[0;32m--> 973\u001b[0;31m               \u001b[0;32mraise\u001b[0m \u001b[0me\u001b[0m\u001b[0;34m.\u001b[0m\u001b[0mag_error_metadata\u001b[0m\u001b[0;34m.\u001b[0m\u001b[0mto_exception\u001b[0m\u001b[0;34m(\u001b[0m\u001b[0me\u001b[0m\u001b[0;34m)\u001b[0m\u001b[0;34m\u001b[0m\u001b[0;34m\u001b[0m\u001b[0m\n\u001b[0m\u001b[1;32m    974\u001b[0m             \u001b[0;32melse\u001b[0m\u001b[0;34m:\u001b[0m\u001b[0;34m\u001b[0m\u001b[0;34m\u001b[0m\u001b[0m\n\u001b[1;32m    975\u001b[0m               \u001b[0;32mraise\u001b[0m\u001b[0;34m\u001b[0m\u001b[0;34m\u001b[0m\u001b[0m\n",
            "\u001b[0;31mValueError\u001b[0m: in user code:\n\n    /usr/local/lib/python3.6/dist-packages/tensorflow/python/keras/engine/training.py:1462 predict_function  *\n        return step_function(self, iterator)\n    /usr/local/lib/python3.6/dist-packages/tensorflow/python/keras/engine/training.py:1452 step_function  **\n        outputs = model.distribute_strategy.run(run_step, args=(data,))\n    /usr/local/lib/python3.6/dist-packages/tensorflow/python/distribute/distribute_lib.py:1211 run\n        return self._extended.call_for_each_replica(fn, args=args, kwargs=kwargs)\n    /usr/local/lib/python3.6/dist-packages/tensorflow/python/distribute/distribute_lib.py:2585 call_for_each_replica\n        return self._call_for_each_replica(fn, args, kwargs)\n    /usr/local/lib/python3.6/dist-packages/tensorflow/python/distribute/distribute_lib.py:2945 _call_for_each_replica\n        return fn(*args, **kwargs)\n    /usr/local/lib/python3.6/dist-packages/tensorflow/python/keras/engine/training.py:1445 run_step  **\n        outputs = model.predict_step(data)\n    /usr/local/lib/python3.6/dist-packages/tensorflow/python/keras/engine/training.py:1418 predict_step\n        return self(x, training=False)\n    /usr/local/lib/python3.6/dist-packages/tensorflow/python/keras/engine/base_layer.py:976 __call__\n        self.name)\n    /usr/local/lib/python3.6/dist-packages/tensorflow/python/keras/engine/input_spec.py:196 assert_input_compatibility\n        str(x.shape.as_list()))\n\n    ValueError: Input 0 of layer sequential_18 is incompatible with the layer: : expected min_ndim=4, found ndim=3. Full shape received: [None, 150, 3]\n"
          ]
        }
      ]
    },
    {
      "cell_type": "code",
      "metadata": {
        "id": "vcotiDPkcNaz"
      },
      "source": [
        "model2.predict?"
      ],
      "execution_count": null,
      "outputs": []
    },
    {
      "cell_type": "code",
      "metadata": {
        "colab": {
          "base_uri": "https://localhost:8080/"
        },
        "id": "KTosWIfBjJSr",
        "outputId": "46dace3c-b23a-4082-f745-fb9c6caa38ea"
      },
      "source": [
        "test_images[0].shape"
      ],
      "execution_count": null,
      "outputs": [
        {
          "output_type": "execute_result",
          "data": {
            "text/plain": [
              "(150, 150, 3)"
            ]
          },
          "metadata": {
            "tags": []
          },
          "execution_count": 295
        }
      ]
    },
    {
      "cell_type": "code",
      "metadata": {
        "id": "H1Yw7Kw4jc1L"
      },
      "source": [
        "my_model = load_model('/content/drive/MyDrive/chest_xray/chest_xray_cnn_100_801010.h5')  # model is CNN trained with 5k+ images\n"
      ],
      "execution_count": null,
      "outputs": []
    },
    {
      "cell_type": "code",
      "metadata": {
        "id": "hazwEIVkXalw"
      },
      "source": [
        ""
      ],
      "execution_count": null,
      "outputs": []
    }
  ]
}